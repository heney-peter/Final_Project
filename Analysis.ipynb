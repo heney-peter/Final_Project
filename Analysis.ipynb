{
 "cells": [
  {
   "cell_type": "markdown",
   "source": "For this project, I will be using ski resort data from the two major global ski passes (Epic and Ikon) to make an interactive map that provides valuable resort information. The first step in doing so is installing a library to help me get geographical information for the resorts so that they can be mapped. For this I will be using GeoPy.",
   "metadata": {
    "cell_id": "b87aca7992a845d89f90c796d0636951",
    "tags": [],
    "deepnote_cell_type": "markdown",
    "deepnote_cell_height": 119.578125
   }
  },
  {
   "cell_type": "markdown",
   "source": "GeoPy has been installed and saved to requirements for future use. Now I will import all of the packages that I need throughout the project.",
   "metadata": {
    "cell_id": "d2d9c9f5a9454a008529fb0ab91bfd0f",
    "tags": [],
    "deepnote_cell_type": "markdown",
    "deepnote_cell_height": 74.78125
   }
  },
  {
   "cell_type": "code",
   "metadata": {
    "cell_id": "91755b18a5ac41a6bf1bc9f04a18859b",
    "tags": [],
    "deepnote_to_be_reexecuted": false,
    "source_hash": "a98b3d04",
    "execution_start": 1651079803148,
    "execution_millis": 133,
    "deepnote_cell_type": "code",
    "deepnote_cell_height": 117
   },
   "source": "import pandas as pd\nimport numpy as np\nfrom geopy.geocoders import Nominatim",
   "execution_count": 1,
   "outputs": []
  },
  {
   "cell_type": "markdown",
   "source": "Now that all of the necessary packages are installed, I will import the 'skiresorts.csv' dataset. This is a dataset that includes all of the resorts on Epic or Ikon ski passes with general summary information about each one.",
   "metadata": {
    "cell_id": "b25b771cd19643abbdfab5521b5add28",
    "tags": [],
    "deepnote_cell_type": "markdown",
    "deepnote_cell_height": 97.1875
   }
  },
  {
   "cell_type": "code",
   "metadata": {
    "cell_id": "86d76dc9cce545b08b0c57d89f9561b9",
    "tags": [],
    "deepnote_to_be_reexecuted": false,
    "source_hash": "92036a62",
    "execution_start": 1651079803284,
    "execution_millis": 106,
    "deepnote_table_state": {
     "pageSize": 10,
     "pageIndex": 3,
     "filters": [],
     "sortBy": []
    },
    "deepnote_table_loading": false,
    "deepnote_cell_type": "code",
    "deepnote_cell_height": 634.65625
   },
   "source": "df = pd.read_csv('skiresorts.csv')\ndf",
   "execution_count": 2,
   "outputs": [
    {
     "output_type": "execute_result",
     "execution_count": 2,
     "data": {
      "application/vnd.deepnote.dataframe.v3+json": {
       "column_count": 24,
       "row_count": 87,
       "columns": [
        {
         "name": "Location",
         "dtype": "object",
         "stats": {
          "unique_count": 24,
          "nan_count": 0,
          "categories": [
           {
            "name": "colorado",
            "count": 12
           },
           {
            "name": "utah",
            "count": 8
           },
           {
            "name": "22 others",
            "count": 67
           }
          ]
         }
        },
        {
         "name": "Resort",
         "dtype": "object",
         "stats": {
          "unique_count": 85,
          "nan_count": 0,
          "categories": [
           {
            "name": "Snowbasin",
            "count": 2
           },
           {
            "name": "Sun Valley",
            "count": 2
           },
           {
            "name": "83 others",
            "count": 83
           }
          ]
         }
        },
        {
         "name": "Map_Name",
         "dtype": "object",
         "stats": {
          "unique_count": 86,
          "nan_count": 0,
          "categories": [
           {
            "name": "Sun Valley Resort",
            "count": 2
           },
           {
            "name": "Ski Alta",
            "count": 1
           },
           {
            "name": "84 others",
            "count": 84
           }
          ]
         }
        },
        {
         "name": "Pass",
         "dtype": "object",
         "stats": {
          "unique_count": 2,
          "nan_count": 0,
          "categories": [
           {
            "name": "Epic",
            "count": 46
           },
           {
            "name": "Ikon",
            "count": 41
           }
          ]
         }
        },
        {
         "name": "Limited or unlimited",
         "dtype": "object",
         "stats": {
          "unique_count": 2,
          "nan_count": 0,
          "categories": [
           {
            "name": "limited",
            "count": 55
           },
           {
            "name": "unlimited",
            "count": 32
           }
          ]
         }
        },
        {
         "name": "Total Lifts",
         "dtype": "int64",
         "stats": {
          "unique_count": 32,
          "nan_count": 0,
          "min": "4",
          "max": "82",
          "histogram": [
           {
            "bin_start": 4,
            "bin_end": 11.8,
            "count": 27
           },
           {
            "bin_start": 11.8,
            "bin_end": 19.6,
            "count": 25
           },
           {
            "bin_start": 19.6,
            "bin_end": 27.4,
            "count": 14
           },
           {
            "bin_start": 27.4,
            "bin_end": 35.2,
            "count": 9
           },
           {
            "bin_start": 35.2,
            "bin_end": 43,
            "count": 5
           },
           {
            "bin_start": 43,
            "bin_end": 50.8,
            "count": 1
           },
           {
            "bin_start": 50.8,
            "bin_end": 58.6,
            "count": 2
           },
           {
            "bin_start": 58.6,
            "bin_end": 66.4,
            "count": 0
           },
           {
            "bin_start": 66.4,
            "bin_end": 74.2,
            "count": 0
           },
           {
            "bin_start": 74.2,
            "bin_end": 82,
            "count": 4
           }
          ]
         }
        },
        {
         "name": "Summit height",
         "dtype": "object",
         "stats": {
          "unique_count": 80,
          "nan_count": 0,
          "categories": [
           {
            "name": "8038'",
            "count": 2
           },
           {
            "name": "9350'",
            "count": 2
           },
           {
            "name": "78 others",
            "count": 83
           }
          ]
         }
        },
        {
         "name": "Vertical Drop",
         "dtype": "object",
         "stats": {
          "unique_count": 81,
          "nan_count": 0,
          "categories": [
           {
            "name": "1400m",
            "count": 3
           },
           {
            "name": "3100'",
            "count": 2
           },
           {
            "name": "79 others",
            "count": 82
           }
          ]
         }
        },
        {
         "name": "Base Elevation",
         "dtype": "object",
         "stats": {
          "unique_count": 80,
          "nan_count": 0,
          "categories": [
           {
            "name": "755'",
            "count": 2
           },
           {
            "name": "9200'",
            "count": 2
           },
           {
            "name": "78 others",
            "count": 83
           }
          ]
         }
        },
        {
         "name": "Runs in Total",
         "dtype": "object",
         "stats": {
          "unique_count": 66,
          "nan_count": 0,
          "categories": [
           {
            "name": "150 km",
            "count": 5
           },
           {
            "name": "61",
            "count": 4
           },
           {
            "name": "64 others",
            "count": 78
           }
          ]
         }
        },
        {
         "name": "Longest Run",
         "dtype": "object",
         "stats": {
          "unique_count": 42,
          "nan_count": 8,
          "categories": [
           {
            "name": "3 mi",
            "count": 9
           },
           {
            "name": "41 others",
            "count": 70
           },
           {
            "name": "Missing",
            "count": 8
           }
          ]
         }
        },
        {
         "name": "Skiable Terrain",
         "dtype": "object",
         "stats": {
          "unique_count": 75,
          "nan_count": 0,
          "categories": [
           {
            "name": "150 km",
            "count": 6
           },
           {
            "name": "412 km",
            "count": 4
           },
           {
            "name": "73 others",
            "count": 77
           }
          ]
         }
        },
        {
         "name": "Snow Making",
         "dtype": "object",
         "stats": {
          "unique_count": 67,
          "nan_count": 9,
          "categories": [
           {
            "name": "50 km",
            "count": 3
           },
           {
            "name": "66 others",
            "count": 75
           },
           {
            "name": "Missing",
            "count": 9
           }
          ]
         }
        },
        {
         "name": "Projected Opening",
         "dtype": "object",
         "stats": {
          "unique_count": 31,
          "nan_count": 0,
          "categories": [
           {
            "name": "December 04  20212021/12/04",
            "count": 12
           },
           {
            "name": "December 03  20212021/12/03",
            "count": 12
           },
           {
            "name": "29 others",
            "count": 63
           }
          ]
         }
        },
        {
         "name": "Projected Closing",
         "dtype": "object",
         "stats": {
          "unique_count": 22,
          "nan_count": 0,
          "categories": [
           {
            "name": "April 10  20222022/04/10",
            "count": 14
           },
           {
            "name": "April 17  20222022/04/17",
            "count": 11
           },
           {
            "name": "20 others",
            "count": 62
           }
          ]
         }
        },
        {
         "name": "Projected Days Open",
         "dtype": "object",
         "stats": {
          "unique_count": 39,
          "nan_count": 0,
          "categories": [
           {
            "name": "N.A.",
            "count": 13
           },
           {
            "name": "142",
            "count": 7
           },
           {
            "name": "37 others",
            "count": 67
           }
          ]
         }
        },
        {
         "name": "Days Open Last Year",
         "dtype": "object",
         "stats": {
          "unique_count": 44,
          "nan_count": 0,
          "categories": [
           {
            "name": "N.A.",
            "count": 17
           },
           {
            "name": "135",
            "count": 4
           },
           {
            "name": "42 others",
            "count": 66
           }
          ]
         }
        },
        {
         "name": "Years Open",
         "dtype": "object",
         "stats": {
          "unique_count": 44,
          "nan_count": 0,
          "categories": [
           {
            "name": "N.A.",
            "count": 9
           },
           {
            "name": "59",
            "count": 5
           },
           {
            "name": "42 others",
            "count": 73
           }
          ]
         }
        },
        {
         "name": "Average Snowfall",
         "dtype": "object",
         "stats": {
          "unique_count": 65,
          "nan_count": 0,
          "categories": [
           {
            "name": "300\"",
            "count": 7
           },
           {
            "name": "100\"",
            "count": 3
           },
           {
            "name": "63 others",
            "count": 77
           }
          ]
         }
        },
        {
         "name": "Beginners Runs",
         "dtype": "object",
         "stats": {
          "unique_count": 25,
          "nan_count": 28,
          "categories": [
           {
            "name": "8%",
            "count": 6
           },
           {
            "name": "24 others",
            "count": 53
           },
           {
            "name": "Missing",
            "count": 28
           }
          ]
         }
        },
        {
         "name": "Intermediate Runs",
         "dtype": "object",
         "stats": {
          "unique_count": 32,
          "nan_count": 16,
          "categories": [
           {
            "name": "25%",
            "count": 5
           },
           {
            "name": "31 others",
            "count": 66
           },
           {
            "name": "Missing",
            "count": 16
           }
          ]
         }
        },
        {
         "name": "Advanced Runs",
         "dtype": "object",
         "stats": {
          "unique_count": 39,
          "nan_count": 16,
          "categories": [
           {
            "name": "33%",
            "count": 4
           },
           {
            "name": "38 others",
            "count": 67
           },
           {
            "name": "Missing",
            "count": 16
           }
          ]
         }
        },
        {
         "name": "Expert Runs",
         "dtype": "object",
         "stats": {
          "unique_count": 27,
          "nan_count": 23,
          "categories": [
           {
            "name": "9%",
            "count": 7
           },
           {
            "name": "26 others",
            "count": 57
           },
           {
            "name": "Missing",
            "count": 23
           }
          ]
         }
        },
        {
         "name": "Night Skiing",
         "dtype": "object",
         "stats": {
          "unique_count": 23,
          "nan_count": 60,
          "categories": [
           {
            "name": "3 km",
            "count": 3
           },
           {
            "name": "22 others",
            "count": 24
           },
           {
            "name": "Missing",
            "count": 60
           }
          ]
         }
        },
        {
         "name": "_deepnote_index_column",
         "dtype": "int64"
        }
       ],
       "rows": [
        {
         "Location": "maine",
         "Resort": "Sugarloaf",
         "Map_Name": "Sugarloaf Mountain Maine",
         "Pass": "Ikon",
         "Limited or unlimited": "limited",
         "Total Lifts": 13,
         "Summit height": "4237'",
         "Vertical Drop": "2820'",
         "Base Elevation": "1417'",
         "Runs in Total": "162",
         "Longest Run": "3.5 mi",
         "Skiable Terrain": "1240 ac",
         "Snow Making": "618 ac",
         "Projected Opening": "November 19  20212021/11/19",
         "Projected Closing": "April 24  20222022/04/24",
         "Projected Days Open": "149",
         "Days Open Last Year": "159",
         "Years Open": "71",
         "Average Snowfall": "200\"",
         "Beginners Runs": "22%",
         "Intermediate Runs": "32%",
         "Advanced Runs": "26%",
         "Expert Runs": "20%",
         "Night Skiing": "nan",
         "_deepnote_index_column": 30
        },
        {
         "Location": "idaho",
         "Resort": "Sun Valley",
         "Map_Name": "Sun Valley Resort",
         "Pass": "Ikon",
         "Limited or unlimited": "limited",
         "Total Lifts": 18,
         "Summit height": "9150'",
         "Vertical Drop": "3400'",
         "Base Elevation": "5750'",
         "Runs in Total": "120",
         "Longest Run": "3 mi",
         "Skiable Terrain": "2054 ac",
         "Snow Making": "645 ac",
         "Projected Opening": "November 25  20212021/11/25",
         "Projected Closing": "April 17  20222022/04/17",
         "Projected Days Open": "136",
         "Days Open Last Year": "149",
         "Years Open": "86",
         "Average Snowfall": "220\"",
         "Beginners Runs": "nan",
         "Intermediate Runs": "nan",
         "Advanced Runs": "nan",
         "Expert Runs": "nan",
         "Night Skiing": "nan",
         "_deepnote_index_column": 31
        },
        {
         "Location": "maine",
         "Resort": "Sunday River",
         "Map_Name": "Sunday River Maine",
         "Pass": "Ikon",
         "Limited or unlimited": "limited",
         "Total Lifts": 18,
         "Summit height": "3140'",
         "Vertical Drop": "2340'",
         "Base Elevation": "800'",
         "Runs in Total": "135",
         "Longest Run": "3 mi",
         "Skiable Terrain": "878 ac",
         "Snow Making": "552 ac",
         "Projected Opening": "November 18  20212021/11/18",
         "Projected Closing": "April 24  20222022/04/24",
         "Projected Days Open": "155",
         "Days Open Last Year": "165",
         "Years Open": "63",
         "Average Snowfall": "167\"",
         "Beginners Runs": "30%",
         "Intermediate Runs": "36%",
         "Advanced Runs": "18%",
         "Expert Runs": "16%",
         "Night Skiing": "140 ac",
         "_deepnote_index_column": 32
        },
        {
         "Location": "alberta",
         "Resort": "Sunshine Village",
         "Map_Name": "Sunshine Village Alberta",
         "Pass": "Ikon",
         "Limited or unlimited": "limited",
         "Total Lifts": 11,
         "Summit height": "8957'",
         "Vertical Drop": "3510'",
         "Base Elevation": "5446'",
         "Runs in Total": "145",
         "Longest Run": "5 mi",
         "Skiable Terrain": "3358 ac",
         "Snow Making": "nan",
         "Projected Opening": "November 11  20212021/11/11",
         "Projected Closing": "May 23  20222022/05/23",
         "Projected Days Open": "194",
         "Days Open Last Year": "202",
         "Years Open": "94",
         "Average Snowfall": "360\"",
         "Beginners Runs": "18%",
         "Intermediate Runs": "26%",
         "Advanced Runs": "48%",
         "Expert Runs": "8%",
         "Night Skiing": "nan",
         "_deepnote_index_column": 33
        },
        {
         "Location": "new-mexico",
         "Resort": "Taos",
         "Map_Name": "Taos Ski Valley",
         "Pass": "Ikon",
         "Limited or unlimited": "limited",
         "Total Lifts": 14,
         "Summit height": "12481'",
         "Vertical Drop": "3281'",
         "Base Elevation": "9200'",
         "Runs in Total": "110",
         "Longest Run": "5 mi",
         "Skiable Terrain": "1294 ac",
         "Snow Making": "13 mi",
         "Projected Opening": "November 25  20212021/11/25",
         "Projected Closing": "April 03  20222022/04/03",
         "Projected Days Open": "129",
         "Days Open Last Year": "137",
         "Years Open": "67",
         "Average Snowfall": "300\"",
         "Beginners Runs": "14%",
         "Intermediate Runs": "16%",
         "Advanced Runs": "30%",
         "Expert Runs": "40%",
         "Night Skiing": "nan",
         "_deepnote_index_column": 34
        },
        {
         "Location": "quebec",
         "Resort": "Tremblant",
         "Map_Name": "Tremblant Resort",
         "Pass": "Ikon",
         "Limited or unlimited": "unlimited",
         "Total Lifts": 14,
         "Summit height": "2871'",
         "Vertical Drop": "2116'",
         "Base Elevation": "755'",
         "Runs in Total": "102",
         "Longest Run": "3.7 mi",
         "Skiable Terrain": "754 ac",
         "Snow Making": "465 ac",
         "Projected Opening": "November 25  20212021/11/25",
         "Projected Closing": "April 18  20222022/04/18",
         "Projected Days Open": "143",
         "Days Open Last Year": "140",
         "Years Open": "83",
         "Average Snowfall": "178\"",
         "Beginners Runs": "19%",
         "Intermediate Runs": "30%",
         "Advanced Runs": "37%",
         "Expert Runs": "13%",
         "Night Skiing": "nan",
         "_deepnote_index_column": 35
        },
        {
         "Location": "colorado",
         "Resort": "Winter Park",
         "Map_Name": "Winter Park Resort",
         "Pass": "Ikon",
         "Limited or unlimited": "unlimited",
         "Total Lifts": 25,
         "Summit height": "12060'",
         "Vertical Drop": "3060'",
         "Base Elevation": "9000'",
         "Runs in Total": "161",
         "Longest Run": "4.9 mi",
         "Skiable Terrain": "3081 ac",
         "Snow Making": "313 ac",
         "Projected Opening": "November 17  20212021/11/17",
         "Projected Closing": "May 15  20222022/05/15",
         "Projected Days Open": "169",
         "Days Open Last Year": "158",
         "Years Open": "82",
         "Average Snowfall": "360\"",
         "Beginners Runs": "24%",
         "Intermediate Runs": "22%",
         "Advanced Runs": "50%",
         "Expert Runs": "4%",
         "Night Skiing": "nan",
         "_deepnote_index_column": 36
        },
        {
         "Location": "washington",
         "Resort": "Summit at Snoqualmie",
         "Map_Name": "Summit at Snoqualmie",
         "Pass": "Ikon",
         "Limited or unlimited": "limited",
         "Total Lifts": 20,
         "Summit height": "3865'",
         "Vertical Drop": "1025'",
         "Base Elevation": "2840'",
         "Runs in Total": "65",
         "Longest Run": "0.8 mi",
         "Skiable Terrain": "1994 ac",
         "Snow Making": "5 ac",
         "Projected Opening": "December 17  20212021/12/17",
         "Projected Closing": "April 24  20222022/04/24",
         "Projected Days Open": "140",
         "Days Open Last Year": "120",
         "Years Open": "85",
         "Average Snowfall": "428\"",
         "Beginners Runs": "15%",
         "Intermediate Runs": "40%",
         "Advanced Runs": "45%",
         "Expert Runs": "nan",
         "Night Skiing": "541 ac",
         "_deepnote_index_column": 37
        },
        {
         "Location": "west-virginia",
         "Resort": "Snowshoe",
         "Map_Name": "10 Snowshoe Drive",
         "Pass": "Ikon",
         "Limited or unlimited": "unlimited",
         "Total Lifts": 12,
         "Summit height": "4848'",
         "Vertical Drop": "1500'",
         "Base Elevation": "3348'",
         "Runs in Total": "61",
         "Longest Run": "1.5 mi",
         "Skiable Terrain": "257 ac",
         "Snow Making": "257 ac",
         "Projected Opening": "November 24  20212021/11/24",
         "Projected Closing": "March 30  20222022/03/30",
         "Projected Days Open": "130",
         "Days Open Last Year": "125",
         "Years Open": "49",
         "Average Snowfall": "180\"",
         "Beginners Runs": "40%",
         "Intermediate Runs": "33%",
         "Advanced Runs": "25%",
         "Expert Runs": "2%",
         "Night Skiing": "86 ac",
         "_deepnote_index_column": 38
        },
        {
         "Location": "michigan",
         "Resort": "The Highlands",
         "Map_Name": "Highlands Lodge Michigan",
         "Pass": "Ikon",
         "Limited or unlimited": "limited",
         "Total Lifts": 10,
         "Summit height": "1290'",
         "Vertical Drop": "552'",
         "Base Elevation": "745'",
         "Runs in Total": "55",
         "Longest Run": "1.2 mi",
         "Skiable Terrain": "435 ac",
         "Snow Making": "400 ac",
         "Projected Opening": "December 18  20212021/12/18",
         "Projected Closing": "March 27  20222022/03/27",
         "Projected Days Open": "133",
         "Days Open Last Year": "97",
         "Years Open": "59",
         "Average Snowfall": "140\"",
         "Beginners Runs": "36%",
         "Intermediate Runs": "31%",
         "Advanced Runs": "31%",
         "Expert Runs": "2%",
         "Night Skiing": "150 ac",
         "_deepnote_index_column": 39
        }
       ]
      },
      "text/plain": "      Location                   Resort                         Map_Name  \\\n0         utah                     Alta                         Ski Alta   \n1     colorado  Arapahoe Basin Ski Area          Arapahoe Basin Ski Area   \n2     colorado           Aspen Snowmass                   Aspen Snowmass   \n3   california            Bear Mountain  Bear Mountain Resort California   \n4      montana                  Big Sky                   Big Sky Resort   \n..         ...                      ...                              ...   \n82    michigan             Mt. Brighton             Mt Brighton Michigan   \n83    trentino                     Pejo                             Pejo   \n84    trentino                  Pinzolo                          Pinzolo   \n85    colorado                Telluride                        Telluride   \n86   wisconsin          Wilmot Mountain        Wilmot Mountain Wisconsin   \n\n    Pass Limited or unlimited  Total Lifts Summit height Vertical Drop  \\\n0   Ikon              limited            6        11068'         2538'   \n1   Ikon              limited            9        13050'         2530'   \n2   Ikon              limited           40        12510'         4406'   \n3   Ikon            unlimited           12         8805'         1665'   \n4   Ikon              limited           36        11166'         4350'   \n..   ...                  ...          ...           ...           ...   \n82  Epic              limited           13         1330'          230'   \n83  Epic              limited            7         3000m         1600m   \n84  Epic              limited           14         2100m         1300m   \n85  Epic              limited           17        13150'         4425'   \n86  Epic            unlimited           11         1030'          230'   \n\n   Base Elevation Runs in Total  ...         Projected Closing  \\\n0           8530'           119  ...  April 25  20222022/04/25   \n1          10780'           147  ...   June 05  20222022/06/05   \n2           8104'           336  ...  April 17  20222022/04/17   \n3           7140'            15  ...  April 16  20222022/04/16   \n4           7500'           317  ...  April 24  20222022/04/24   \n..            ...           ...  ...                       ...   \n82          1100'            25  ...  March 13  20222022/03/13   \n83          1160m         20 km  ...  April 18  20222022/04/18   \n84           800m       31.4 km  ...  April 18  20222022/04/18   \n85          8725'           147  ...  April 17  20222022/04/17   \n86           800'            21  ...  March 13  20222022/03/13   \n\n   Projected Days Open Days Open Last Year Years Open Average Snowfall  \\\n0                  142                 156         84             547\"   \n1                  270                 234         76             350\"   \n2                  148                 150         75             300\"   \n3                  135                 122         79             100\"   \n4                  143                 144         49             400\"   \n..                 ...                 ...        ...              ...   \n82                  99                 111         62              60\"   \n83                N.A.                N.A.       N.A.            150cm   \n84                N.A.                N.A.         53            127cm   \n85                 129                 136         50             280\"   \n86                 139                 125         84              70\"   \n\n   Beginners Runs Intermediate Runs Advanced Runs Expert Runs Night Skiing  \n0             NaN               NaN           NaN         NaN          NaN  \n1              7%               20%           49%         24%          NaN  \n2             NaN               NaN           NaN         NaN          NaN  \n3             20%               33%           33%         13%          NaN  \n4             15%               25%           42%         18%          NaN  \n..            ...               ...           ...         ...          ...  \n82            24%               44%           24%          8%       130 ac  \n83            NaN               25%           65%         10%       0.9 km  \n84            NaN               12%           41%         47%          NaN  \n85            16%               30%           21%         34%          NaN  \n86            33%               33%           33%         NaN       135 ac  \n\n[87 rows x 24 columns]",
      "text/html": "<div>\n<style scoped>\n    .dataframe tbody tr th:only-of-type {\n        vertical-align: middle;\n    }\n\n    .dataframe tbody tr th {\n        vertical-align: top;\n    }\n\n    .dataframe thead th {\n        text-align: right;\n    }\n</style>\n<table border=\"1\" class=\"dataframe\">\n  <thead>\n    <tr style=\"text-align: right;\">\n      <th></th>\n      <th>Location</th>\n      <th>Resort</th>\n      <th>Map_Name</th>\n      <th>Pass</th>\n      <th>Limited or unlimited</th>\n      <th>Total Lifts</th>\n      <th>Summit height</th>\n      <th>Vertical Drop</th>\n      <th>Base Elevation</th>\n      <th>Runs in Total</th>\n      <th>...</th>\n      <th>Projected Closing</th>\n      <th>Projected Days Open</th>\n      <th>Days Open Last Year</th>\n      <th>Years Open</th>\n      <th>Average Snowfall</th>\n      <th>Beginners Runs</th>\n      <th>Intermediate Runs</th>\n      <th>Advanced Runs</th>\n      <th>Expert Runs</th>\n      <th>Night Skiing</th>\n    </tr>\n  </thead>\n  <tbody>\n    <tr>\n      <th>0</th>\n      <td>utah</td>\n      <td>Alta</td>\n      <td>Ski Alta</td>\n      <td>Ikon</td>\n      <td>limited</td>\n      <td>6</td>\n      <td>11068'</td>\n      <td>2538'</td>\n      <td>8530'</td>\n      <td>119</td>\n      <td>...</td>\n      <td>April 25  20222022/04/25</td>\n      <td>142</td>\n      <td>156</td>\n      <td>84</td>\n      <td>547\"</td>\n      <td>NaN</td>\n      <td>NaN</td>\n      <td>NaN</td>\n      <td>NaN</td>\n      <td>NaN</td>\n    </tr>\n    <tr>\n      <th>1</th>\n      <td>colorado</td>\n      <td>Arapahoe Basin Ski Area</td>\n      <td>Arapahoe Basin Ski Area</td>\n      <td>Ikon</td>\n      <td>limited</td>\n      <td>9</td>\n      <td>13050'</td>\n      <td>2530'</td>\n      <td>10780'</td>\n      <td>147</td>\n      <td>...</td>\n      <td>June 05  20222022/06/05</td>\n      <td>270</td>\n      <td>234</td>\n      <td>76</td>\n      <td>350\"</td>\n      <td>7%</td>\n      <td>20%</td>\n      <td>49%</td>\n      <td>24%</td>\n      <td>NaN</td>\n    </tr>\n    <tr>\n      <th>2</th>\n      <td>colorado</td>\n      <td>Aspen Snowmass</td>\n      <td>Aspen Snowmass</td>\n      <td>Ikon</td>\n      <td>limited</td>\n      <td>40</td>\n      <td>12510'</td>\n      <td>4406'</td>\n      <td>8104'</td>\n      <td>336</td>\n      <td>...</td>\n      <td>April 17  20222022/04/17</td>\n      <td>148</td>\n      <td>150</td>\n      <td>75</td>\n      <td>300\"</td>\n      <td>NaN</td>\n      <td>NaN</td>\n      <td>NaN</td>\n      <td>NaN</td>\n      <td>NaN</td>\n    </tr>\n    <tr>\n      <th>3</th>\n      <td>california</td>\n      <td>Bear Mountain</td>\n      <td>Bear Mountain Resort California</td>\n      <td>Ikon</td>\n      <td>unlimited</td>\n      <td>12</td>\n      <td>8805'</td>\n      <td>1665'</td>\n      <td>7140'</td>\n      <td>15</td>\n      <td>...</td>\n      <td>April 16  20222022/04/16</td>\n      <td>135</td>\n      <td>122</td>\n      <td>79</td>\n      <td>100\"</td>\n      <td>20%</td>\n      <td>33%</td>\n      <td>33%</td>\n      <td>13%</td>\n      <td>NaN</td>\n    </tr>\n    <tr>\n      <th>4</th>\n      <td>montana</td>\n      <td>Big Sky</td>\n      <td>Big Sky Resort</td>\n      <td>Ikon</td>\n      <td>limited</td>\n      <td>36</td>\n      <td>11166'</td>\n      <td>4350'</td>\n      <td>7500'</td>\n      <td>317</td>\n      <td>...</td>\n      <td>April 24  20222022/04/24</td>\n      <td>143</td>\n      <td>144</td>\n      <td>49</td>\n      <td>400\"</td>\n      <td>15%</td>\n      <td>25%</td>\n      <td>42%</td>\n      <td>18%</td>\n      <td>NaN</td>\n    </tr>\n    <tr>\n      <th>...</th>\n      <td>...</td>\n      <td>...</td>\n      <td>...</td>\n      <td>...</td>\n      <td>...</td>\n      <td>...</td>\n      <td>...</td>\n      <td>...</td>\n      <td>...</td>\n      <td>...</td>\n      <td>...</td>\n      <td>...</td>\n      <td>...</td>\n      <td>...</td>\n      <td>...</td>\n      <td>...</td>\n      <td>...</td>\n      <td>...</td>\n      <td>...</td>\n      <td>...</td>\n      <td>...</td>\n    </tr>\n    <tr>\n      <th>82</th>\n      <td>michigan</td>\n      <td>Mt. Brighton</td>\n      <td>Mt Brighton Michigan</td>\n      <td>Epic</td>\n      <td>limited</td>\n      <td>13</td>\n      <td>1330'</td>\n      <td>230'</td>\n      <td>1100'</td>\n      <td>25</td>\n      <td>...</td>\n      <td>March 13  20222022/03/13</td>\n      <td>99</td>\n      <td>111</td>\n      <td>62</td>\n      <td>60\"</td>\n      <td>24%</td>\n      <td>44%</td>\n      <td>24%</td>\n      <td>8%</td>\n      <td>130 ac</td>\n    </tr>\n    <tr>\n      <th>83</th>\n      <td>trentino</td>\n      <td>Pejo</td>\n      <td>Pejo</td>\n      <td>Epic</td>\n      <td>limited</td>\n      <td>7</td>\n      <td>3000m</td>\n      <td>1600m</td>\n      <td>1160m</td>\n      <td>20 km</td>\n      <td>...</td>\n      <td>April 18  20222022/04/18</td>\n      <td>N.A.</td>\n      <td>N.A.</td>\n      <td>N.A.</td>\n      <td>150cm</td>\n      <td>NaN</td>\n      <td>25%</td>\n      <td>65%</td>\n      <td>10%</td>\n      <td>0.9 km</td>\n    </tr>\n    <tr>\n      <th>84</th>\n      <td>trentino</td>\n      <td>Pinzolo</td>\n      <td>Pinzolo</td>\n      <td>Epic</td>\n      <td>limited</td>\n      <td>14</td>\n      <td>2100m</td>\n      <td>1300m</td>\n      <td>800m</td>\n      <td>31.4 km</td>\n      <td>...</td>\n      <td>April 18  20222022/04/18</td>\n      <td>N.A.</td>\n      <td>N.A.</td>\n      <td>53</td>\n      <td>127cm</td>\n      <td>NaN</td>\n      <td>12%</td>\n      <td>41%</td>\n      <td>47%</td>\n      <td>NaN</td>\n    </tr>\n    <tr>\n      <th>85</th>\n      <td>colorado</td>\n      <td>Telluride</td>\n      <td>Telluride</td>\n      <td>Epic</td>\n      <td>limited</td>\n      <td>17</td>\n      <td>13150'</td>\n      <td>4425'</td>\n      <td>8725'</td>\n      <td>147</td>\n      <td>...</td>\n      <td>April 17  20222022/04/17</td>\n      <td>129</td>\n      <td>136</td>\n      <td>50</td>\n      <td>280\"</td>\n      <td>16%</td>\n      <td>30%</td>\n      <td>21%</td>\n      <td>34%</td>\n      <td>NaN</td>\n    </tr>\n    <tr>\n      <th>86</th>\n      <td>wisconsin</td>\n      <td>Wilmot Mountain</td>\n      <td>Wilmot Mountain Wisconsin</td>\n      <td>Epic</td>\n      <td>unlimited</td>\n      <td>11</td>\n      <td>1030'</td>\n      <td>230'</td>\n      <td>800'</td>\n      <td>21</td>\n      <td>...</td>\n      <td>March 13  20222022/03/13</td>\n      <td>139</td>\n      <td>125</td>\n      <td>84</td>\n      <td>70\"</td>\n      <td>33%</td>\n      <td>33%</td>\n      <td>33%</td>\n      <td>NaN</td>\n      <td>135 ac</td>\n    </tr>\n  </tbody>\n</table>\n<p>87 rows × 24 columns</p>\n</div>"
     },
     "metadata": {}
    }
   ]
  },
  {
   "cell_type": "markdown",
   "source": "For my map dataset, I only want to display important summary info for each resort (Average annual snowfall, vertical drop, and skiable terrain). I will also need to find the longitude and latitude of each resort, and I will want to filter by which pass the mountain is on (Ikon or Epic).",
   "metadata": {
    "cell_id": "91ba5907a514460e841773512c26fd30",
    "tags": [],
    "deepnote_cell_type": "markdown",
    "deepnote_cell_height": 97.1875
   }
  },
  {
   "cell_type": "code",
   "metadata": {
    "cell_id": "062c2e3f4cc64cafae3e2d6df9a1fdec",
    "tags": [],
    "deepnote_to_be_reexecuted": false,
    "source_hash": "92736eac",
    "execution_start": 1651079803393,
    "execution_millis": 88005,
    "deepnote_table_state": {
     "pageSize": 10,
     "pageIndex": 4,
     "filters": [],
     "sortBy": []
    },
    "deepnote_table_loading": false,
    "deepnote_cell_type": "code",
    "deepnote_cell_height": 670.65625
   },
   "source": "loc = Nominatim(user_agent=\"GetLoc\")\ndf['Resort_Lat'] = df['Map_Name'].apply(loc.geocode).apply(lambda x: x.latitude)\ndf['Resort_Long'] = df['Map_Name'].apply(loc.geocode).apply(lambda x: x.longitude)\ndf",
   "execution_count": 3,
   "outputs": [
    {
     "output_type": "execute_result",
     "execution_count": 3,
     "data": {
      "application/vnd.deepnote.dataframe.v3+json": {
       "column_count": 26,
       "row_count": 87,
       "columns": [
        {
         "name": "Location",
         "dtype": "object",
         "stats": {
          "unique_count": 24,
          "nan_count": 0,
          "categories": [
           {
            "name": "colorado",
            "count": 12
           },
           {
            "name": "utah",
            "count": 8
           },
           {
            "name": "22 others",
            "count": 67
           }
          ]
         }
        },
        {
         "name": "Resort",
         "dtype": "object",
         "stats": {
          "unique_count": 85,
          "nan_count": 0,
          "categories": [
           {
            "name": "Snowbasin",
            "count": 2
           },
           {
            "name": "Sun Valley",
            "count": 2
           },
           {
            "name": "83 others",
            "count": 83
           }
          ]
         }
        },
        {
         "name": "Map_Name",
         "dtype": "object",
         "stats": {
          "unique_count": 86,
          "nan_count": 0,
          "categories": [
           {
            "name": "Sun Valley Resort",
            "count": 2
           },
           {
            "name": "Ski Alta",
            "count": 1
           },
           {
            "name": "84 others",
            "count": 84
           }
          ]
         }
        },
        {
         "name": "Pass",
         "dtype": "object",
         "stats": {
          "unique_count": 2,
          "nan_count": 0,
          "categories": [
           {
            "name": "Epic",
            "count": 46
           },
           {
            "name": "Ikon",
            "count": 41
           }
          ]
         }
        },
        {
         "name": "Limited or unlimited",
         "dtype": "object",
         "stats": {
          "unique_count": 2,
          "nan_count": 0,
          "categories": [
           {
            "name": "limited",
            "count": 55
           },
           {
            "name": "unlimited",
            "count": 32
           }
          ]
         }
        },
        {
         "name": "Total Lifts",
         "dtype": "int64",
         "stats": {
          "unique_count": 32,
          "nan_count": 0,
          "min": "4",
          "max": "82",
          "histogram": [
           {
            "bin_start": 4,
            "bin_end": 11.8,
            "count": 27
           },
           {
            "bin_start": 11.8,
            "bin_end": 19.6,
            "count": 25
           },
           {
            "bin_start": 19.6,
            "bin_end": 27.4,
            "count": 14
           },
           {
            "bin_start": 27.4,
            "bin_end": 35.2,
            "count": 9
           },
           {
            "bin_start": 35.2,
            "bin_end": 43,
            "count": 5
           },
           {
            "bin_start": 43,
            "bin_end": 50.8,
            "count": 1
           },
           {
            "bin_start": 50.8,
            "bin_end": 58.6,
            "count": 2
           },
           {
            "bin_start": 58.6,
            "bin_end": 66.4,
            "count": 0
           },
           {
            "bin_start": 66.4,
            "bin_end": 74.2,
            "count": 0
           },
           {
            "bin_start": 74.2,
            "bin_end": 82,
            "count": 4
           }
          ]
         }
        },
        {
         "name": "Summit height",
         "dtype": "object",
         "stats": {
          "unique_count": 80,
          "nan_count": 0,
          "categories": [
           {
            "name": "8038'",
            "count": 2
           },
           {
            "name": "9350'",
            "count": 2
           },
           {
            "name": "78 others",
            "count": 83
           }
          ]
         }
        },
        {
         "name": "Vertical Drop",
         "dtype": "object",
         "stats": {
          "unique_count": 81,
          "nan_count": 0,
          "categories": [
           {
            "name": "1400m",
            "count": 3
           },
           {
            "name": "3100'",
            "count": 2
           },
           {
            "name": "79 others",
            "count": 82
           }
          ]
         }
        },
        {
         "name": "Base Elevation",
         "dtype": "object",
         "stats": {
          "unique_count": 80,
          "nan_count": 0,
          "categories": [
           {
            "name": "755'",
            "count": 2
           },
           {
            "name": "9200'",
            "count": 2
           },
           {
            "name": "78 others",
            "count": 83
           }
          ]
         }
        },
        {
         "name": "Runs in Total",
         "dtype": "object",
         "stats": {
          "unique_count": 66,
          "nan_count": 0,
          "categories": [
           {
            "name": "150 km",
            "count": 5
           },
           {
            "name": "61",
            "count": 4
           },
           {
            "name": "64 others",
            "count": 78
           }
          ]
         }
        },
        {
         "name": "Longest Run",
         "dtype": "object",
         "stats": {
          "unique_count": 42,
          "nan_count": 8,
          "categories": [
           {
            "name": "3 mi",
            "count": 9
           },
           {
            "name": "41 others",
            "count": 70
           },
           {
            "name": "Missing",
            "count": 8
           }
          ]
         }
        },
        {
         "name": "Skiable Terrain",
         "dtype": "object",
         "stats": {
          "unique_count": 75,
          "nan_count": 0,
          "categories": [
           {
            "name": "150 km",
            "count": 6
           },
           {
            "name": "412 km",
            "count": 4
           },
           {
            "name": "73 others",
            "count": 77
           }
          ]
         }
        },
        {
         "name": "Snow Making",
         "dtype": "object",
         "stats": {
          "unique_count": 67,
          "nan_count": 9,
          "categories": [
           {
            "name": "50 km",
            "count": 3
           },
           {
            "name": "66 others",
            "count": 75
           },
           {
            "name": "Missing",
            "count": 9
           }
          ]
         }
        },
        {
         "name": "Projected Opening",
         "dtype": "object",
         "stats": {
          "unique_count": 31,
          "nan_count": 0,
          "categories": [
           {
            "name": "December 04  20212021/12/04",
            "count": 12
           },
           {
            "name": "December 03  20212021/12/03",
            "count": 12
           },
           {
            "name": "29 others",
            "count": 63
           }
          ]
         }
        },
        {
         "name": "Projected Closing",
         "dtype": "object",
         "stats": {
          "unique_count": 22,
          "nan_count": 0,
          "categories": [
           {
            "name": "April 10  20222022/04/10",
            "count": 14
           },
           {
            "name": "April 17  20222022/04/17",
            "count": 11
           },
           {
            "name": "20 others",
            "count": 62
           }
          ]
         }
        },
        {
         "name": "Projected Days Open",
         "dtype": "object",
         "stats": {
          "unique_count": 39,
          "nan_count": 0,
          "categories": [
           {
            "name": "N.A.",
            "count": 13
           },
           {
            "name": "142",
            "count": 7
           },
           {
            "name": "37 others",
            "count": 67
           }
          ]
         }
        },
        {
         "name": "Days Open Last Year",
         "dtype": "object",
         "stats": {
          "unique_count": 44,
          "nan_count": 0,
          "categories": [
           {
            "name": "N.A.",
            "count": 17
           },
           {
            "name": "135",
            "count": 4
           },
           {
            "name": "42 others",
            "count": 66
           }
          ]
         }
        },
        {
         "name": "Years Open",
         "dtype": "object",
         "stats": {
          "unique_count": 44,
          "nan_count": 0,
          "categories": [
           {
            "name": "N.A.",
            "count": 9
           },
           {
            "name": "59",
            "count": 5
           },
           {
            "name": "42 others",
            "count": 73
           }
          ]
         }
        },
        {
         "name": "Average Snowfall",
         "dtype": "object",
         "stats": {
          "unique_count": 65,
          "nan_count": 0,
          "categories": [
           {
            "name": "300\"",
            "count": 7
           },
           {
            "name": "100\"",
            "count": 3
           },
           {
            "name": "63 others",
            "count": 77
           }
          ]
         }
        },
        {
         "name": "Beginners Runs",
         "dtype": "object",
         "stats": {
          "unique_count": 25,
          "nan_count": 28,
          "categories": [
           {
            "name": "8%",
            "count": 6
           },
           {
            "name": "24 others",
            "count": 53
           },
           {
            "name": "Missing",
            "count": 28
           }
          ]
         }
        },
        {
         "name": "Intermediate Runs",
         "dtype": "object",
         "stats": {
          "unique_count": 32,
          "nan_count": 16,
          "categories": [
           {
            "name": "25%",
            "count": 5
           },
           {
            "name": "31 others",
            "count": 66
           },
           {
            "name": "Missing",
            "count": 16
           }
          ]
         }
        },
        {
         "name": "Advanced Runs",
         "dtype": "object",
         "stats": {
          "unique_count": 39,
          "nan_count": 16,
          "categories": [
           {
            "name": "33%",
            "count": 4
           },
           {
            "name": "38 others",
            "count": 67
           },
           {
            "name": "Missing",
            "count": 16
           }
          ]
         }
        },
        {
         "name": "Expert Runs",
         "dtype": "object",
         "stats": {
          "unique_count": 27,
          "nan_count": 23,
          "categories": [
           {
            "name": "9%",
            "count": 7
           },
           {
            "name": "26 others",
            "count": 57
           },
           {
            "name": "Missing",
            "count": 23
           }
          ]
         }
        },
        {
         "name": "Night Skiing",
         "dtype": "object",
         "stats": {
          "unique_count": 23,
          "nan_count": 60,
          "categories": [
           {
            "name": "3 km",
            "count": 3
           },
           {
            "name": "22 others",
            "count": 24
           },
           {
            "name": "Missing",
            "count": 60
           }
          ]
         }
        },
        {
         "name": "Resort_Lat",
         "dtype": "float64",
         "stats": {
          "unique_count": 84,
          "nan_count": 0,
          "min": "34.22008645",
          "max": "51.4423106",
          "histogram": [
           {
            "bin_start": 34.22008645,
            "bin_end": 35.942308864999994,
            "count": 2
           },
           {
            "bin_start": 35.942308864999994,
            "bin_end": 37.66453128,
            "count": 2
           },
           {
            "bin_start": 37.66453128,
            "bin_end": 39.386753694999996,
            "count": 9
           },
           {
            "bin_start": 39.386753694999996,
            "bin_end": 41.10897611,
            "count": 15
           },
           {
            "bin_start": 41.10897611,
            "bin_end": 42.831198525,
            "count": 5
           },
           {
            "bin_start": 42.831198525,
            "bin_end": 44.553420939999995,
            "count": 13
           },
           {
            "bin_start": 44.553420939999995,
            "bin_end": 46.275643355,
            "count": 24
           },
           {
            "bin_start": 46.275643355,
            "bin_end": 47.99786577,
            "count": 7
           },
           {
            "bin_start": 47.99786577,
            "bin_end": 49.720088185,
            "count": 3
           },
           {
            "bin_start": 49.720088185,
            "bin_end": 51.4423106,
            "count": 7
           }
          ]
         }
        },
        {
         "name": "Resort_Long",
         "dtype": "float64",
         "stats": {
          "unique_count": 84,
          "nan_count": 0,
          "min": "-123.2011442570911",
          "max": "11.06430454534564",
          "histogram": [
           {
            "bin_start": -123.2011442570911,
            "bin_end": -109.77459937684743,
            "count": 34
           },
           {
            "bin_start": -109.77459937684743,
            "bin_end": -96.34805449660375,
            "count": 13
           },
           {
            "bin_start": -96.34805449660375,
            "bin_end": -82.92150961636008,
            "count": 5
           },
           {
            "bin_start": -82.92150961636008,
            "bin_end": -69.4949647361164,
            "count": 15
           },
           {
            "bin_start": -69.4949647361164,
            "bin_end": -56.06841985587273,
            "count": 0
           },
           {
            "bin_start": -56.06841985587273,
            "bin_end": -42.641874975629065,
            "count": 0
           },
           {
            "bin_start": -42.641874975629065,
            "bin_end": -29.215330095385383,
            "count": 0
           },
           {
            "bin_start": -29.215330095385383,
            "bin_end": -15.788785215141715,
            "count": 0
           },
           {
            "bin_start": -15.788785215141715,
            "bin_end": -2.362240334898047,
            "count": 0
           },
           {
            "bin_start": -2.362240334898047,
            "bin_end": 11.06430454534564,
            "count": 20
           }
          ]
         }
        },
        {
         "name": "_deepnote_index_column",
         "dtype": "int64"
        }
       ],
       "rows": [
        {
         "Location": "new-york",
         "Resort": "Windham Mountain",
         "Map_Name": "Windham Mountain Resort",
         "Pass": "Ikon",
         "Limited or unlimited": "limited",
         "Total Lifts": 11,
         "Summit height": "3100'",
         "Vertical Drop": "1600'",
         "Base Elevation": "1500'",
         "Runs in Total": "18.2 mi",
         "Longest Run": "2 mi",
         "Skiable Terrain": "285 ac",
         "Snow Making": "280 ac",
         "Projected Opening": "November 26  20212021/11/26",
         "Projected Closing": "April 03  20222022/04/03",
         "Projected Days Open": "127",
         "Days Open Last Year": "131",
         "Years Open": "62",
         "Average Snowfall": "105\"",
         "Beginners Runs": "20%",
         "Intermediate Runs": "48%",
         "Advanced Runs": "19%",
         "Expert Runs": "13%",
         "Night Skiing": "45 ac",
         "Resort_Lat": 42.29871795,
         "Resort_Long": -74.25721831935432,
         "_deepnote_index_column": 40
        },
        {
         "Location": "colorado",
         "Resort": "Beaver Creek",
         "Map_Name": "Beaver Creek Resort",
         "Pass": "Epic",
         "Limited or unlimited": "unlimited",
         "Total Lifts": 24,
         "Summit height": "11440'",
         "Vertical Drop": "3340'",
         "Base Elevation": "8100'",
         "Runs in Total": "150",
         "Longest Run": "2.8 mi",
         "Skiable Terrain": "1832 ac",
         "Snow Making": "650 ac",
         "Projected Opening": "November 29  20212021/11/29",
         "Projected Closing": "April 10  20222022/04/10",
         "Projected Days Open": "141",
         "Days Open Last Year": "144",
         "Years Open": "42",
         "Average Snowfall": "323\"",
         "Beginners Runs": "38%",
         "Intermediate Runs": "30%",
         "Advanced Runs": "24%",
         "Expert Runs": "8%",
         "Night Skiing": "nan",
         "Resort_Lat": 39.6033606,
         "Resort_Long": -106.5156856,
         "_deepnote_index_column": 41
        },
        {
         "Location": "colorado",
         "Resort": "Breckenridge",
         "Map_Name": "Breckenridge Resort",
         "Pass": "Epic",
         "Limited or unlimited": "unlimited",
         "Total Lifts": 34,
         "Summit height": "12998'",
         "Vertical Drop": "3398'",
         "Base Elevation": "9600'",
         "Runs in Total": "187",
         "Longest Run": "3.5 mi",
         "Skiable Terrain": "2908 ac",
         "Snow Making": "600 ac",
         "Projected Opening": "November 12  20212021/11/12",
         "Projected Closing": "May 30  20222022/05/30",
         "Projected Days Open": "199",
         "Days Open Last Year": "204",
         "Years Open": "61",
         "Average Snowfall": "300\"",
         "Beginners Runs": "13%",
         "Intermediate Runs": "23%",
         "Advanced Runs": "36%",
         "Expert Runs": "28%",
         "Night Skiing": "nan",
         "Resort_Lat": 39.4802643,
         "Resort_Long": -106.0673289,
         "_deepnote_index_column": 42
        },
        {
         "Location": "northern-alps",
         "Resort": "Brides les Bains",
         "Map_Name": "Brides les Bains",
         "Pass": "Epic",
         "Limited or unlimited": "limited",
         "Total Lifts": 41,
         "Summit height": "2950m",
         "Vertical Drop": "2350m",
         "Base Elevation": "600m",
         "Runs in Total": "150 km",
         "Longest Run": "1.1 km",
         "Skiable Terrain": "150 km",
         "Snow Making": "75 km",
         "Projected Opening": "December 04  20212021/12/04",
         "Projected Closing": "April 15  20222022/04/15",
         "Projected Days Open": "120",
         "Days Open Last Year": "120",
         "Years Open": "30",
         "Average Snowfall": "126cm",
         "Beginners Runs": "9%",
         "Intermediate Runs": "40%",
         "Advanced Runs": "37%",
         "Expert Runs": "15%",
         "Night Skiing": "nan",
         "Resort_Lat": 45.4525213,
         "Resort_Long": 6.5667816,
         "_deepnote_index_column": 43
        },
        {
         "Location": "northern-alps",
         "Resort": "Courchevel",
         "Map_Name": "Courchevel",
         "Pass": "Epic",
         "Limited or unlimited": "limited",
         "Total Lifts": 55,
         "Summit height": "2738m",
         "Vertical Drop": "1388m",
         "Base Elevation": "1100m",
         "Runs in Total": "150 km",
         "Longest Run": "9 km",
         "Skiable Terrain": "150 km",
         "Snow Making": "87 km",
         "Projected Opening": "December 04  20212021/12/04",
         "Projected Closing": "April 22  20222022/04/22",
         "Projected Days Open": "140",
         "Days Open Last Year": "140",
         "Years Open": "76",
         "Average Snowfall": "800cm",
         "Beginners Runs": "19%",
         "Intermediate Runs": "38%",
         "Advanced Runs": "33%",
         "Expert Runs": "10%",
         "Night Skiing": "3 km",
         "Resort_Lat": 45.4140984,
         "Resort_Long": 6.6349892,
         "_deepnote_index_column": 44
        },
        {
         "Location": "british-columbia",
         "Resort": "Fernie",
         "Map_Name": "Fernie Alpine Resort",
         "Pass": "Epic",
         "Limited or unlimited": "limited",
         "Total Lifts": 10,
         "Summit height": "7001'",
         "Vertical Drop": "3550'",
         "Base Elevation": "3451'",
         "Runs in Total": "142",
         "Longest Run": "3.1 mi",
         "Skiable Terrain": "2504 ac",
         "Snow Making": "125 ac",
         "Projected Opening": "December 11  20212021/12/11",
         "Projected Closing": "April 10  20222022/04/10",
         "Projected Days Open": "135",
         "Days Open Last Year": "130",
         "Years Open": "60",
         "Average Snowfall": "444\"",
         "Beginners Runs": "nan",
         "Intermediate Runs": "nan",
         "Advanced Runs": "nan",
         "Expert Runs": "nan",
         "Night Skiing": "nan",
         "Resort_Lat": 49.4631931,
         "Resort_Long": -115.0862124,
         "_deepnote_index_column": 45
        },
        {
         "Location": "trentino",
         "Resort": "Folgarida Marilleva",
         "Map_Name": "Folgarida Marilleva",
         "Pass": "Epic",
         "Limited or unlimited": "limited",
         "Total Lifts": 25,
         "Summit height": "2040m",
         "Vertical Drop": "770m",
         "Base Elevation": "1270m",
         "Runs in Total": "63 km",
         "Longest Run": "nan",
         "Skiable Terrain": "63 km",
         "Snow Making": "nan",
         "Projected Opening": "December 04  20212021/12/04",
         "Projected Closing": "April 18  20222022/04/18",
         "Projected Days Open": "N.A.",
         "Days Open Last Year": "N.A.",
         "Years Open": "N.A.",
         "Average Snowfall": "192cm",
         "Beginners Runs": "nan",
         "Intermediate Runs": "32%",
         "Advanced Runs": "48%",
         "Expert Runs": "21%",
         "Night Skiing": "nan",
         "Resort_Lat": 46.29331145,
         "Resort_Long": 10.823576903999982,
         "_deepnote_index_column": 46
        },
        {
         "Location": "california",
         "Resort": "Heavenly",
         "Map_Name": "Heavenly Mountain Resort",
         "Pass": "Epic",
         "Limited or unlimited": "unlimited",
         "Total Lifts": 28,
         "Summit height": "10067'",
         "Vertical Drop": "3500'",
         "Base Elevation": "7170'",
         "Runs in Total": "97",
         "Longest Run": "5.5 mi",
         "Skiable Terrain": "4800 ac",
         "Snow Making": "3379 ac",
         "Projected Opening": "December 11  20212021/12/11",
         "Projected Closing": "April 24  20222022/04/24",
         "Projected Days Open": "144",
         "Days Open Last Year": "155",
         "Years Open": "67",
         "Average Snowfall": "360\"",
         "Beginners Runs": "8%",
         "Intermediate Runs": "62%",
         "Advanced Runs": "25%",
         "Expert Runs": "5%",
         "Night Skiing": "nan",
         "Resort_Lat": 38.94045175,
         "Resort_Long": -119.89742148883298,
         "_deepnote_index_column": 47
        },
        {
         "Location": "colorado",
         "Resort": "Keystone",
         "Map_Name": "Keystone Resort",
         "Pass": "Epic",
         "Limited or unlimited": "unlimited",
         "Total Lifts": 20,
         "Summit height": "12408'",
         "Vertical Drop": "3128'",
         "Base Elevation": "9280'",
         "Runs in Total": "128",
         "Longest Run": "3.5 mi",
         "Skiable Terrain": "3148 ac",
         "Snow Making": "662 ac",
         "Projected Opening": "October 22  20212021/10/22",
         "Projected Closing": "April 10  20222022/04/10",
         "Projected Days Open": "183",
         "Days Open Last Year": "151",
         "Years Open": "52",
         "Average Snowfall": "235\"",
         "Beginners Runs": "16%",
         "Intermediate Runs": "43%",
         "Advanced Runs": "41%",
         "Expert Runs": "nan",
         "Night Skiing": "288 ac",
         "Resort_Lat": 39.6046192,
         "Resort_Long": -105.9538216,
         "_deepnote_index_column": 48
        },
        {
         "Location": "british-columbia",
         "Resort": "Kicking Horse",
         "Map_Name": "Kicking Horse Resort",
         "Pass": "Epic",
         "Limited or unlimited": "limited",
         "Total Lifts": 5,
         "Summit height": "8038'",
         "Vertical Drop": "4134'",
         "Base Elevation": "3904'",
         "Runs in Total": "129",
         "Longest Run": "6.2 mi",
         "Skiable Terrain": "2800 ac",
         "Snow Making": "516 ac",
         "Projected Opening": "December 10  20212021/12/10",
         "Projected Closing": "April 10  20222022/04/10",
         "Projected Days Open": "128",
         "Days Open Last Year": "120",
         "Years Open": "22",
         "Average Snowfall": "288\"",
         "Beginners Runs": "nan",
         "Intermediate Runs": "nan",
         "Advanced Runs": "nan",
         "Expert Runs": "nan",
         "Night Skiing": "nan",
         "Resort_Lat": 51.2843923,
         "Resort_Long": -117.06305273837887,
         "_deepnote_index_column": 49
        }
       ]
      },
      "text/plain": "      Location                   Resort                         Map_Name  \\\n0         utah                     Alta                         Ski Alta   \n1     colorado  Arapahoe Basin Ski Area          Arapahoe Basin Ski Area   \n2     colorado           Aspen Snowmass                   Aspen Snowmass   \n3   california            Bear Mountain  Bear Mountain Resort California   \n4      montana                  Big Sky                   Big Sky Resort   \n..         ...                      ...                              ...   \n82    michigan             Mt. Brighton             Mt Brighton Michigan   \n83    trentino                     Pejo                             Pejo   \n84    trentino                  Pinzolo                          Pinzolo   \n85    colorado                Telluride                        Telluride   \n86   wisconsin          Wilmot Mountain        Wilmot Mountain Wisconsin   \n\n    Pass Limited or unlimited  Total Lifts Summit height Vertical Drop  \\\n0   Ikon              limited            6        11068'         2538'   \n1   Ikon              limited            9        13050'         2530'   \n2   Ikon              limited           40        12510'         4406'   \n3   Ikon            unlimited           12         8805'         1665'   \n4   Ikon              limited           36        11166'         4350'   \n..   ...                  ...          ...           ...           ...   \n82  Epic              limited           13         1330'          230'   \n83  Epic              limited            7         3000m         1600m   \n84  Epic              limited           14         2100m         1300m   \n85  Epic              limited           17        13150'         4425'   \n86  Epic            unlimited           11         1030'          230'   \n\n   Base Elevation Runs in Total  ... Days Open Last Year Years Open  \\\n0           8530'           119  ...                 156         84   \n1          10780'           147  ...                 234         76   \n2           8104'           336  ...                 150         75   \n3           7140'            15  ...                 122         79   \n4           7500'           317  ...                 144         49   \n..            ...           ...  ...                 ...        ...   \n82          1100'            25  ...                 111         62   \n83          1160m         20 km  ...                N.A.       N.A.   \n84           800m       31.4 km  ...                N.A.         53   \n85          8725'           147  ...                 136         50   \n86           800'            21  ...                 125         84   \n\n   Average Snowfall Beginners Runs Intermediate Runs Advanced Runs  \\\n0              547\"            NaN               NaN           NaN   \n1              350\"             7%               20%           49%   \n2              300\"            NaN               NaN           NaN   \n3              100\"            20%               33%           33%   \n4              400\"            15%               25%           42%   \n..              ...            ...               ...           ...   \n82              60\"            24%               44%           24%   \n83            150cm            NaN               25%           65%   \n84            127cm            NaN               12%           41%   \n85             280\"            16%               30%           21%   \n86              70\"            33%               33%           33%   \n\n   Expert Runs Night Skiing Resort_Lat Resort_Long  \n0          NaN          NaN  40.588237 -111.638401  \n1          24%          NaN  39.641869 -105.872051  \n2          NaN          NaN  39.202955 -106.964958  \n3          13%          NaN  34.220086 -116.861034  \n4          18%          NaN  45.283978 -111.401116  \n..         ...          ...        ...         ...  \n82          8%       130 ac  42.541010  -83.810807  \n83         10%       0.9 km  46.376649   10.654277  \n84         47%          NaN  46.161732   10.765004  \n85         34%          NaN  37.937494 -107.812285  \n86         NaN       135 ac  42.501190  -88.188082  \n\n[87 rows x 26 columns]",
      "text/html": "<div>\n<style scoped>\n    .dataframe tbody tr th:only-of-type {\n        vertical-align: middle;\n    }\n\n    .dataframe tbody tr th {\n        vertical-align: top;\n    }\n\n    .dataframe thead th {\n        text-align: right;\n    }\n</style>\n<table border=\"1\" class=\"dataframe\">\n  <thead>\n    <tr style=\"text-align: right;\">\n      <th></th>\n      <th>Location</th>\n      <th>Resort</th>\n      <th>Map_Name</th>\n      <th>Pass</th>\n      <th>Limited or unlimited</th>\n      <th>Total Lifts</th>\n      <th>Summit height</th>\n      <th>Vertical Drop</th>\n      <th>Base Elevation</th>\n      <th>Runs in Total</th>\n      <th>...</th>\n      <th>Days Open Last Year</th>\n      <th>Years Open</th>\n      <th>Average Snowfall</th>\n      <th>Beginners Runs</th>\n      <th>Intermediate Runs</th>\n      <th>Advanced Runs</th>\n      <th>Expert Runs</th>\n      <th>Night Skiing</th>\n      <th>Resort_Lat</th>\n      <th>Resort_Long</th>\n    </tr>\n  </thead>\n  <tbody>\n    <tr>\n      <th>0</th>\n      <td>utah</td>\n      <td>Alta</td>\n      <td>Ski Alta</td>\n      <td>Ikon</td>\n      <td>limited</td>\n      <td>6</td>\n      <td>11068'</td>\n      <td>2538'</td>\n      <td>8530'</td>\n      <td>119</td>\n      <td>...</td>\n      <td>156</td>\n      <td>84</td>\n      <td>547\"</td>\n      <td>NaN</td>\n      <td>NaN</td>\n      <td>NaN</td>\n      <td>NaN</td>\n      <td>NaN</td>\n      <td>40.588237</td>\n      <td>-111.638401</td>\n    </tr>\n    <tr>\n      <th>1</th>\n      <td>colorado</td>\n      <td>Arapahoe Basin Ski Area</td>\n      <td>Arapahoe Basin Ski Area</td>\n      <td>Ikon</td>\n      <td>limited</td>\n      <td>9</td>\n      <td>13050'</td>\n      <td>2530'</td>\n      <td>10780'</td>\n      <td>147</td>\n      <td>...</td>\n      <td>234</td>\n      <td>76</td>\n      <td>350\"</td>\n      <td>7%</td>\n      <td>20%</td>\n      <td>49%</td>\n      <td>24%</td>\n      <td>NaN</td>\n      <td>39.641869</td>\n      <td>-105.872051</td>\n    </tr>\n    <tr>\n      <th>2</th>\n      <td>colorado</td>\n      <td>Aspen Snowmass</td>\n      <td>Aspen Snowmass</td>\n      <td>Ikon</td>\n      <td>limited</td>\n      <td>40</td>\n      <td>12510'</td>\n      <td>4406'</td>\n      <td>8104'</td>\n      <td>336</td>\n      <td>...</td>\n      <td>150</td>\n      <td>75</td>\n      <td>300\"</td>\n      <td>NaN</td>\n      <td>NaN</td>\n      <td>NaN</td>\n      <td>NaN</td>\n      <td>NaN</td>\n      <td>39.202955</td>\n      <td>-106.964958</td>\n    </tr>\n    <tr>\n      <th>3</th>\n      <td>california</td>\n      <td>Bear Mountain</td>\n      <td>Bear Mountain Resort California</td>\n      <td>Ikon</td>\n      <td>unlimited</td>\n      <td>12</td>\n      <td>8805'</td>\n      <td>1665'</td>\n      <td>7140'</td>\n      <td>15</td>\n      <td>...</td>\n      <td>122</td>\n      <td>79</td>\n      <td>100\"</td>\n      <td>20%</td>\n      <td>33%</td>\n      <td>33%</td>\n      <td>13%</td>\n      <td>NaN</td>\n      <td>34.220086</td>\n      <td>-116.861034</td>\n    </tr>\n    <tr>\n      <th>4</th>\n      <td>montana</td>\n      <td>Big Sky</td>\n      <td>Big Sky Resort</td>\n      <td>Ikon</td>\n      <td>limited</td>\n      <td>36</td>\n      <td>11166'</td>\n      <td>4350'</td>\n      <td>7500'</td>\n      <td>317</td>\n      <td>...</td>\n      <td>144</td>\n      <td>49</td>\n      <td>400\"</td>\n      <td>15%</td>\n      <td>25%</td>\n      <td>42%</td>\n      <td>18%</td>\n      <td>NaN</td>\n      <td>45.283978</td>\n      <td>-111.401116</td>\n    </tr>\n    <tr>\n      <th>...</th>\n      <td>...</td>\n      <td>...</td>\n      <td>...</td>\n      <td>...</td>\n      <td>...</td>\n      <td>...</td>\n      <td>...</td>\n      <td>...</td>\n      <td>...</td>\n      <td>...</td>\n      <td>...</td>\n      <td>...</td>\n      <td>...</td>\n      <td>...</td>\n      <td>...</td>\n      <td>...</td>\n      <td>...</td>\n      <td>...</td>\n      <td>...</td>\n      <td>...</td>\n      <td>...</td>\n    </tr>\n    <tr>\n      <th>82</th>\n      <td>michigan</td>\n      <td>Mt. Brighton</td>\n      <td>Mt Brighton Michigan</td>\n      <td>Epic</td>\n      <td>limited</td>\n      <td>13</td>\n      <td>1330'</td>\n      <td>230'</td>\n      <td>1100'</td>\n      <td>25</td>\n      <td>...</td>\n      <td>111</td>\n      <td>62</td>\n      <td>60\"</td>\n      <td>24%</td>\n      <td>44%</td>\n      <td>24%</td>\n      <td>8%</td>\n      <td>130 ac</td>\n      <td>42.541010</td>\n      <td>-83.810807</td>\n    </tr>\n    <tr>\n      <th>83</th>\n      <td>trentino</td>\n      <td>Pejo</td>\n      <td>Pejo</td>\n      <td>Epic</td>\n      <td>limited</td>\n      <td>7</td>\n      <td>3000m</td>\n      <td>1600m</td>\n      <td>1160m</td>\n      <td>20 km</td>\n      <td>...</td>\n      <td>N.A.</td>\n      <td>N.A.</td>\n      <td>150cm</td>\n      <td>NaN</td>\n      <td>25%</td>\n      <td>65%</td>\n      <td>10%</td>\n      <td>0.9 km</td>\n      <td>46.376649</td>\n      <td>10.654277</td>\n    </tr>\n    <tr>\n      <th>84</th>\n      <td>trentino</td>\n      <td>Pinzolo</td>\n      <td>Pinzolo</td>\n      <td>Epic</td>\n      <td>limited</td>\n      <td>14</td>\n      <td>2100m</td>\n      <td>1300m</td>\n      <td>800m</td>\n      <td>31.4 km</td>\n      <td>...</td>\n      <td>N.A.</td>\n      <td>53</td>\n      <td>127cm</td>\n      <td>NaN</td>\n      <td>12%</td>\n      <td>41%</td>\n      <td>47%</td>\n      <td>NaN</td>\n      <td>46.161732</td>\n      <td>10.765004</td>\n    </tr>\n    <tr>\n      <th>85</th>\n      <td>colorado</td>\n      <td>Telluride</td>\n      <td>Telluride</td>\n      <td>Epic</td>\n      <td>limited</td>\n      <td>17</td>\n      <td>13150'</td>\n      <td>4425'</td>\n      <td>8725'</td>\n      <td>147</td>\n      <td>...</td>\n      <td>136</td>\n      <td>50</td>\n      <td>280\"</td>\n      <td>16%</td>\n      <td>30%</td>\n      <td>21%</td>\n      <td>34%</td>\n      <td>NaN</td>\n      <td>37.937494</td>\n      <td>-107.812285</td>\n    </tr>\n    <tr>\n      <th>86</th>\n      <td>wisconsin</td>\n      <td>Wilmot Mountain</td>\n      <td>Wilmot Mountain Wisconsin</td>\n      <td>Epic</td>\n      <td>unlimited</td>\n      <td>11</td>\n      <td>1030'</td>\n      <td>230'</td>\n      <td>800'</td>\n      <td>21</td>\n      <td>...</td>\n      <td>125</td>\n      <td>84</td>\n      <td>70\"</td>\n      <td>33%</td>\n      <td>33%</td>\n      <td>33%</td>\n      <td>NaN</td>\n      <td>135 ac</td>\n      <td>42.501190</td>\n      <td>-88.188082</td>\n    </tr>\n  </tbody>\n</table>\n<p>87 rows × 26 columns</p>\n</div>"
     },
     "metadata": {}
    }
   ]
  },
  {
   "cell_type": "markdown",
   "source": "I have added Resort_Lat and Resort_Long to each resort by assigning resorts names that can be interpreted by GeoPy to provide location data and applying the geocode function. Now I will create a trimmed down dataset for the map portion of my project that only includes relevant information.",
   "metadata": {
    "cell_id": "1c69c95334204d159d225e311fa914ab",
    "tags": [],
    "deepnote_cell_type": "markdown",
    "deepnote_cell_height": 119.578125
   }
  },
  {
   "cell_type": "code",
   "metadata": {
    "cell_id": "a4e9068d56954bfd99525113fcffdd64",
    "tags": [],
    "deepnote_to_be_reexecuted": false,
    "source_hash": "57d976a5",
    "execution_start": 1651079891397,
    "execution_millis": 19,
    "deepnote_table_state": {
     "pageSize": 10,
     "pageIndex": 4,
     "filters": [],
     "sortBy": []
    },
    "deepnote_table_loading": false,
    "deepnote_cell_type": "code",
    "deepnote_cell_height": 634.65625
   },
   "source": "df_map = df[['Resort', 'Resort_Lat', 'Resort_Long', 'Pass', 'Vertical Drop', 'Skiable Terrain', 'Average Snowfall']]\ndf_map",
   "execution_count": 4,
   "outputs": [
    {
     "output_type": "execute_result",
     "execution_count": 4,
     "data": {
      "application/vnd.deepnote.dataframe.v3+json": {
       "column_count": 7,
       "row_count": 87,
       "columns": [
        {
         "name": "Resort",
         "dtype": "object",
         "stats": {
          "unique_count": 85,
          "nan_count": 0,
          "categories": [
           {
            "name": "Snowbasin",
            "count": 2
           },
           {
            "name": "Sun Valley",
            "count": 2
           },
           {
            "name": "83 others",
            "count": 83
           }
          ]
         }
        },
        {
         "name": "Resort_Lat",
         "dtype": "float64",
         "stats": {
          "unique_count": 84,
          "nan_count": 0,
          "min": "34.22008645",
          "max": "51.4423106",
          "histogram": [
           {
            "bin_start": 34.22008645,
            "bin_end": 35.942308864999994,
            "count": 2
           },
           {
            "bin_start": 35.942308864999994,
            "bin_end": 37.66453128,
            "count": 2
           },
           {
            "bin_start": 37.66453128,
            "bin_end": 39.386753694999996,
            "count": 9
           },
           {
            "bin_start": 39.386753694999996,
            "bin_end": 41.10897611,
            "count": 15
           },
           {
            "bin_start": 41.10897611,
            "bin_end": 42.831198525,
            "count": 5
           },
           {
            "bin_start": 42.831198525,
            "bin_end": 44.553420939999995,
            "count": 13
           },
           {
            "bin_start": 44.553420939999995,
            "bin_end": 46.275643355,
            "count": 24
           },
           {
            "bin_start": 46.275643355,
            "bin_end": 47.99786577,
            "count": 7
           },
           {
            "bin_start": 47.99786577,
            "bin_end": 49.720088185,
            "count": 3
           },
           {
            "bin_start": 49.720088185,
            "bin_end": 51.4423106,
            "count": 7
           }
          ]
         }
        },
        {
         "name": "Resort_Long",
         "dtype": "float64",
         "stats": {
          "unique_count": 84,
          "nan_count": 0,
          "min": "-123.2011442570911",
          "max": "11.06430454534564",
          "histogram": [
           {
            "bin_start": -123.2011442570911,
            "bin_end": -109.77459937684743,
            "count": 34
           },
           {
            "bin_start": -109.77459937684743,
            "bin_end": -96.34805449660375,
            "count": 13
           },
           {
            "bin_start": -96.34805449660375,
            "bin_end": -82.92150961636008,
            "count": 5
           },
           {
            "bin_start": -82.92150961636008,
            "bin_end": -69.4949647361164,
            "count": 15
           },
           {
            "bin_start": -69.4949647361164,
            "bin_end": -56.06841985587273,
            "count": 0
           },
           {
            "bin_start": -56.06841985587273,
            "bin_end": -42.641874975629065,
            "count": 0
           },
           {
            "bin_start": -42.641874975629065,
            "bin_end": -29.215330095385383,
            "count": 0
           },
           {
            "bin_start": -29.215330095385383,
            "bin_end": -15.788785215141715,
            "count": 0
           },
           {
            "bin_start": -15.788785215141715,
            "bin_end": -2.362240334898047,
            "count": 0
           },
           {
            "bin_start": -2.362240334898047,
            "bin_end": 11.06430454534564,
            "count": 20
           }
          ]
         }
        },
        {
         "name": "Pass",
         "dtype": "object",
         "stats": {
          "unique_count": 2,
          "nan_count": 0,
          "categories": [
           {
            "name": "Epic",
            "count": 46
           },
           {
            "name": "Ikon",
            "count": 41
           }
          ]
         }
        },
        {
         "name": "Vertical Drop",
         "dtype": "object",
         "stats": {
          "unique_count": 81,
          "nan_count": 0,
          "categories": [
           {
            "name": "1400m",
            "count": 3
           },
           {
            "name": "3100'",
            "count": 2
           },
           {
            "name": "79 others",
            "count": 82
           }
          ]
         }
        },
        {
         "name": "Skiable Terrain",
         "dtype": "object",
         "stats": {
          "unique_count": 75,
          "nan_count": 0,
          "categories": [
           {
            "name": "150 km",
            "count": 6
           },
           {
            "name": "412 km",
            "count": 4
           },
           {
            "name": "73 others",
            "count": 77
           }
          ]
         }
        },
        {
         "name": "Average Snowfall",
         "dtype": "object",
         "stats": {
          "unique_count": 65,
          "nan_count": 0,
          "categories": [
           {
            "name": "300\"",
            "count": 7
           },
           {
            "name": "100\"",
            "count": 3
           },
           {
            "name": "63 others",
            "count": 77
           }
          ]
         }
        },
        {
         "name": "_deepnote_index_column",
         "dtype": "int64"
        }
       ],
       "rows": [
        {
         "Resort": "Windham Mountain",
         "Resort_Lat": 42.29871795,
         "Resort_Long": -74.25721831935432,
         "Pass": "Ikon",
         "Vertical Drop": "1600'",
         "Skiable Terrain": "285 ac",
         "Average Snowfall": "105\"",
         "_deepnote_index_column": 40
        },
        {
         "Resort": "Beaver Creek",
         "Resort_Lat": 39.6033606,
         "Resort_Long": -106.5156856,
         "Pass": "Epic",
         "Vertical Drop": "3340'",
         "Skiable Terrain": "1832 ac",
         "Average Snowfall": "323\"",
         "_deepnote_index_column": 41
        },
        {
         "Resort": "Breckenridge",
         "Resort_Lat": 39.4802643,
         "Resort_Long": -106.0673289,
         "Pass": "Epic",
         "Vertical Drop": "3398'",
         "Skiable Terrain": "2908 ac",
         "Average Snowfall": "300\"",
         "_deepnote_index_column": 42
        },
        {
         "Resort": "Brides les Bains",
         "Resort_Lat": 45.4525213,
         "Resort_Long": 6.5667816,
         "Pass": "Epic",
         "Vertical Drop": "2350m",
         "Skiable Terrain": "150 km",
         "Average Snowfall": "126cm",
         "_deepnote_index_column": 43
        },
        {
         "Resort": "Courchevel",
         "Resort_Lat": 45.4140984,
         "Resort_Long": 6.6349892,
         "Pass": "Epic",
         "Vertical Drop": "1388m",
         "Skiable Terrain": "150 km",
         "Average Snowfall": "800cm",
         "_deepnote_index_column": 44
        },
        {
         "Resort": "Fernie",
         "Resort_Lat": 49.4631931,
         "Resort_Long": -115.0862124,
         "Pass": "Epic",
         "Vertical Drop": "3550'",
         "Skiable Terrain": "2504 ac",
         "Average Snowfall": "444\"",
         "_deepnote_index_column": 45
        },
        {
         "Resort": "Folgarida Marilleva",
         "Resort_Lat": 46.29331145,
         "Resort_Long": 10.823576903999982,
         "Pass": "Epic",
         "Vertical Drop": "770m",
         "Skiable Terrain": "63 km",
         "Average Snowfall": "192cm",
         "_deepnote_index_column": 46
        },
        {
         "Resort": "Heavenly",
         "Resort_Lat": 38.94045175,
         "Resort_Long": -119.89742148883298,
         "Pass": "Epic",
         "Vertical Drop": "3500'",
         "Skiable Terrain": "4800 ac",
         "Average Snowfall": "360\"",
         "_deepnote_index_column": 47
        },
        {
         "Resort": "Keystone",
         "Resort_Lat": 39.6046192,
         "Resort_Long": -105.9538216,
         "Pass": "Epic",
         "Vertical Drop": "3128'",
         "Skiable Terrain": "3148 ac",
         "Average Snowfall": "235\"",
         "_deepnote_index_column": 48
        },
        {
         "Resort": "Kicking Horse",
         "Resort_Lat": 51.2843923,
         "Resort_Long": -117.06305273837887,
         "Pass": "Epic",
         "Vertical Drop": "4134'",
         "Skiable Terrain": "2800 ac",
         "Average Snowfall": "288\"",
         "_deepnote_index_column": 49
        }
       ]
      },
      "text/plain": "                     Resort  Resort_Lat  Resort_Long  Pass Vertical Drop  \\\n0                      Alta   40.588237  -111.638401  Ikon         2538'   \n1   Arapahoe Basin Ski Area   39.641869  -105.872051  Ikon         2530'   \n2            Aspen Snowmass   39.202955  -106.964958  Ikon         4406'   \n3             Bear Mountain   34.220086  -116.861034  Ikon         1665'   \n4                   Big Sky   45.283978  -111.401116  Ikon         4350'   \n..                      ...         ...          ...   ...           ...   \n82             Mt. Brighton   42.541010   -83.810807  Epic          230'   \n83                     Pejo   46.376649    10.654277  Epic         1600m   \n84                  Pinzolo   46.161732    10.765004  Epic         1300m   \n85                Telluride   37.937494  -107.812285  Epic         4425'   \n86          Wilmot Mountain   42.501190   -88.188082  Epic          230'   \n\n   Skiable Terrain Average Snowfall  \n0          2614 ac             547\"  \n1          1428 ac             350\"  \n2          5517 ac             300\"  \n3           198 ac             100\"  \n4          5800 ac             400\"  \n..             ...              ...  \n82          130 ac              60\"  \n83           20 km            150cm  \n84         31.4 km            127cm  \n85         2000 ac             280\"  \n86          135 ac              70\"  \n\n[87 rows x 7 columns]",
      "text/html": "<div>\n<style scoped>\n    .dataframe tbody tr th:only-of-type {\n        vertical-align: middle;\n    }\n\n    .dataframe tbody tr th {\n        vertical-align: top;\n    }\n\n    .dataframe thead th {\n        text-align: right;\n    }\n</style>\n<table border=\"1\" class=\"dataframe\">\n  <thead>\n    <tr style=\"text-align: right;\">\n      <th></th>\n      <th>Resort</th>\n      <th>Resort_Lat</th>\n      <th>Resort_Long</th>\n      <th>Pass</th>\n      <th>Vertical Drop</th>\n      <th>Skiable Terrain</th>\n      <th>Average Snowfall</th>\n    </tr>\n  </thead>\n  <tbody>\n    <tr>\n      <th>0</th>\n      <td>Alta</td>\n      <td>40.588237</td>\n      <td>-111.638401</td>\n      <td>Ikon</td>\n      <td>2538'</td>\n      <td>2614 ac</td>\n      <td>547\"</td>\n    </tr>\n    <tr>\n      <th>1</th>\n      <td>Arapahoe Basin Ski Area</td>\n      <td>39.641869</td>\n      <td>-105.872051</td>\n      <td>Ikon</td>\n      <td>2530'</td>\n      <td>1428 ac</td>\n      <td>350\"</td>\n    </tr>\n    <tr>\n      <th>2</th>\n      <td>Aspen Snowmass</td>\n      <td>39.202955</td>\n      <td>-106.964958</td>\n      <td>Ikon</td>\n      <td>4406'</td>\n      <td>5517 ac</td>\n      <td>300\"</td>\n    </tr>\n    <tr>\n      <th>3</th>\n      <td>Bear Mountain</td>\n      <td>34.220086</td>\n      <td>-116.861034</td>\n      <td>Ikon</td>\n      <td>1665'</td>\n      <td>198 ac</td>\n      <td>100\"</td>\n    </tr>\n    <tr>\n      <th>4</th>\n      <td>Big Sky</td>\n      <td>45.283978</td>\n      <td>-111.401116</td>\n      <td>Ikon</td>\n      <td>4350'</td>\n      <td>5800 ac</td>\n      <td>400\"</td>\n    </tr>\n    <tr>\n      <th>...</th>\n      <td>...</td>\n      <td>...</td>\n      <td>...</td>\n      <td>...</td>\n      <td>...</td>\n      <td>...</td>\n      <td>...</td>\n    </tr>\n    <tr>\n      <th>82</th>\n      <td>Mt. Brighton</td>\n      <td>42.541010</td>\n      <td>-83.810807</td>\n      <td>Epic</td>\n      <td>230'</td>\n      <td>130 ac</td>\n      <td>60\"</td>\n    </tr>\n    <tr>\n      <th>83</th>\n      <td>Pejo</td>\n      <td>46.376649</td>\n      <td>10.654277</td>\n      <td>Epic</td>\n      <td>1600m</td>\n      <td>20 km</td>\n      <td>150cm</td>\n    </tr>\n    <tr>\n      <th>84</th>\n      <td>Pinzolo</td>\n      <td>46.161732</td>\n      <td>10.765004</td>\n      <td>Epic</td>\n      <td>1300m</td>\n      <td>31.4 km</td>\n      <td>127cm</td>\n    </tr>\n    <tr>\n      <th>85</th>\n      <td>Telluride</td>\n      <td>37.937494</td>\n      <td>-107.812285</td>\n      <td>Epic</td>\n      <td>4425'</td>\n      <td>2000 ac</td>\n      <td>280\"</td>\n    </tr>\n    <tr>\n      <th>86</th>\n      <td>Wilmot Mountain</td>\n      <td>42.501190</td>\n      <td>-88.188082</td>\n      <td>Epic</td>\n      <td>230'</td>\n      <td>135 ac</td>\n      <td>70\"</td>\n    </tr>\n  </tbody>\n</table>\n<p>87 rows × 7 columns</p>\n</div>"
     },
     "metadata": {}
    }
   ]
  },
  {
   "cell_type": "markdown",
   "source": "There are some unit inconsistencies due to the use of European resorts in this dataset. I would like to have vertical drop and average snowfall in US measuring units. To arrange this, I will subset the dataframe based on which resorts use metric system measurements and apply conversion formulas to them. Unfortunately, skiable terrain is not only in different units, but different measures entirely for European and US resorts. US uses acreage as an area unit while Europe uses km in total trail length. Becuase of this, I will leave this column as a string with the appropriate label to identify which system is being used.",
   "metadata": {
    "cell_id": "f39a3692739e45eba2ca7070eabdde6c",
    "tags": [],
    "deepnote_cell_type": "markdown",
    "deepnote_cell_height": 186.765625
   }
  },
  {
   "cell_type": "code",
   "metadata": {
    "cell_id": "c9a5fe4391bf40f7bef849aa0908c21e",
    "tags": [],
    "deepnote_to_be_reexecuted": false,
    "source_hash": "cc317150",
    "execution_start": 1651079891421,
    "execution_millis": 49,
    "deepnote_table_state": {
     "pageSize": 10,
     "pageIndex": 4,
     "filters": [],
     "sortBy": []
    },
    "deepnote_table_loading": false,
    "deepnote_cell_type": "code",
    "deepnote_cell_height": 939.703125
   },
   "source": "df_map['Vertical Drop'] = df_map['Vertical Drop'].apply(lambda x: int(x.replace('m', '')) * 3.28084 if 'm' in x else x.replace(\"'\", \"\"))\ndf_map['Vertical Drop'] = df_map['Vertical Drop'].astype(float).round(0)\ndf_map\n",
   "execution_count": 5,
   "outputs": [
    {
     "name": "stderr",
     "text": "/shared-libs/python3.7/py-core/lib/python3.7/site-packages/ipykernel_launcher.py:2: SettingWithCopyWarning: \nA value is trying to be set on a copy of a slice from a DataFrame.\nTry using .loc[row_indexer,col_indexer] = value instead\n\nSee the caveats in the documentation: https://pandas.pydata.org/pandas-docs/stable/user_guide/indexing.html#returning-a-view-versus-a-copy\n  \n/shared-libs/python3.7/py-core/lib/python3.7/site-packages/ipykernel_launcher.py:3: SettingWithCopyWarning: \nA value is trying to be set on a copy of a slice from a DataFrame.\nTry using .loc[row_indexer,col_indexer] = value instead\n\nSee the caveats in the documentation: https://pandas.pydata.org/pandas-docs/stable/user_guide/indexing.html#returning-a-view-versus-a-copy\n  This is separate from the ipykernel package so we can avoid doing imports until\n",
     "output_type": "stream"
    },
    {
     "output_type": "execute_result",
     "execution_count": 5,
     "data": {
      "application/vnd.deepnote.dataframe.v3+json": {
       "column_count": 7,
       "row_count": 87,
       "columns": [
        {
         "name": "Resort",
         "dtype": "object",
         "stats": {
          "unique_count": 85,
          "nan_count": 0,
          "categories": [
           {
            "name": "Snowbasin",
            "count": 2
           },
           {
            "name": "Sun Valley",
            "count": 2
           },
           {
            "name": "83 others",
            "count": 83
           }
          ]
         }
        },
        {
         "name": "Resort_Lat",
         "dtype": "float64",
         "stats": {
          "unique_count": 84,
          "nan_count": 0,
          "min": "34.22008645",
          "max": "51.4423106",
          "histogram": [
           {
            "bin_start": 34.22008645,
            "bin_end": 35.942308864999994,
            "count": 2
           },
           {
            "bin_start": 35.942308864999994,
            "bin_end": 37.66453128,
            "count": 2
           },
           {
            "bin_start": 37.66453128,
            "bin_end": 39.386753694999996,
            "count": 9
           },
           {
            "bin_start": 39.386753694999996,
            "bin_end": 41.10897611,
            "count": 15
           },
           {
            "bin_start": 41.10897611,
            "bin_end": 42.831198525,
            "count": 5
           },
           {
            "bin_start": 42.831198525,
            "bin_end": 44.553420939999995,
            "count": 13
           },
           {
            "bin_start": 44.553420939999995,
            "bin_end": 46.275643355,
            "count": 24
           },
           {
            "bin_start": 46.275643355,
            "bin_end": 47.99786577,
            "count": 7
           },
           {
            "bin_start": 47.99786577,
            "bin_end": 49.720088185,
            "count": 3
           },
           {
            "bin_start": 49.720088185,
            "bin_end": 51.4423106,
            "count": 7
           }
          ]
         }
        },
        {
         "name": "Resort_Long",
         "dtype": "float64",
         "stats": {
          "unique_count": 84,
          "nan_count": 0,
          "min": "-123.2011442570911",
          "max": "11.06430454534564",
          "histogram": [
           {
            "bin_start": -123.2011442570911,
            "bin_end": -109.77459937684743,
            "count": 34
           },
           {
            "bin_start": -109.77459937684743,
            "bin_end": -96.34805449660375,
            "count": 13
           },
           {
            "bin_start": -96.34805449660375,
            "bin_end": -82.92150961636008,
            "count": 5
           },
           {
            "bin_start": -82.92150961636008,
            "bin_end": -69.4949647361164,
            "count": 15
           },
           {
            "bin_start": -69.4949647361164,
            "bin_end": -56.06841985587273,
            "count": 0
           },
           {
            "bin_start": -56.06841985587273,
            "bin_end": -42.641874975629065,
            "count": 0
           },
           {
            "bin_start": -42.641874975629065,
            "bin_end": -29.215330095385383,
            "count": 0
           },
           {
            "bin_start": -29.215330095385383,
            "bin_end": -15.788785215141715,
            "count": 0
           },
           {
            "bin_start": -15.788785215141715,
            "bin_end": -2.362240334898047,
            "count": 0
           },
           {
            "bin_start": -2.362240334898047,
            "bin_end": 11.06430454534564,
            "count": 20
           }
          ]
         }
        },
        {
         "name": "Pass",
         "dtype": "object",
         "stats": {
          "unique_count": 2,
          "nan_count": 0,
          "categories": [
           {
            "name": "Epic",
            "count": 46
           },
           {
            "name": "Ikon",
            "count": 41
           }
          ]
         }
        },
        {
         "name": "Vertical Drop",
         "dtype": "float64",
         "stats": {
          "unique_count": 81,
          "nan_count": 0,
          "min": "230.0",
          "max": "7710.0",
          "histogram": [
           {
            "bin_start": 230,
            "bin_end": 978,
            "count": 6
           },
           {
            "bin_start": 978,
            "bin_end": 1726,
            "count": 9
           },
           {
            "bin_start": 1726,
            "bin_end": 2474,
            "count": 15
           },
           {
            "bin_start": 2474,
            "bin_end": 3222,
            "count": 20
           },
           {
            "bin_start": 3222,
            "bin_end": 3970,
            "count": 16
           },
           {
            "bin_start": 3970,
            "bin_end": 4718,
            "count": 12
           },
           {
            "bin_start": 4718,
            "bin_end": 5466,
            "count": 2
           },
           {
            "bin_start": 5466,
            "bin_end": 6214,
            "count": 4
           },
           {
            "bin_start": 6214,
            "bin_end": 6962,
            "count": 1
           },
           {
            "bin_start": 6962,
            "bin_end": 7710,
            "count": 2
           }
          ]
         }
        },
        {
         "name": "Skiable Terrain",
         "dtype": "object",
         "stats": {
          "unique_count": 75,
          "nan_count": 0,
          "categories": [
           {
            "name": "150 km",
            "count": 6
           },
           {
            "name": "412 km",
            "count": 4
           },
           {
            "name": "73 others",
            "count": 77
           }
          ]
         }
        },
        {
         "name": "Average Snowfall",
         "dtype": "object",
         "stats": {
          "unique_count": 65,
          "nan_count": 0,
          "categories": [
           {
            "name": "300\"",
            "count": 7
           },
           {
            "name": "100\"",
            "count": 3
           },
           {
            "name": "63 others",
            "count": 77
           }
          ]
         }
        },
        {
         "name": "_deepnote_index_column",
         "dtype": "int64"
        }
       ],
       "rows": [
        {
         "Resort": "Windham Mountain",
         "Resort_Lat": 42.29871795,
         "Resort_Long": -74.25721831935432,
         "Pass": "Ikon",
         "Vertical Drop": 1600,
         "Skiable Terrain": "285 ac",
         "Average Snowfall": "105\"",
         "_deepnote_index_column": 40
        },
        {
         "Resort": "Beaver Creek",
         "Resort_Lat": 39.6033606,
         "Resort_Long": -106.5156856,
         "Pass": "Epic",
         "Vertical Drop": 3340,
         "Skiable Terrain": "1832 ac",
         "Average Snowfall": "323\"",
         "_deepnote_index_column": 41
        },
        {
         "Resort": "Breckenridge",
         "Resort_Lat": 39.4802643,
         "Resort_Long": -106.0673289,
         "Pass": "Epic",
         "Vertical Drop": 3398,
         "Skiable Terrain": "2908 ac",
         "Average Snowfall": "300\"",
         "_deepnote_index_column": 42
        },
        {
         "Resort": "Brides les Bains",
         "Resort_Lat": 45.4525213,
         "Resort_Long": 6.5667816,
         "Pass": "Epic",
         "Vertical Drop": 7710,
         "Skiable Terrain": "150 km",
         "Average Snowfall": "126cm",
         "_deepnote_index_column": 43
        },
        {
         "Resort": "Courchevel",
         "Resort_Lat": 45.4140984,
         "Resort_Long": 6.6349892,
         "Pass": "Epic",
         "Vertical Drop": 4554,
         "Skiable Terrain": "150 km",
         "Average Snowfall": "800cm",
         "_deepnote_index_column": 44
        },
        {
         "Resort": "Fernie",
         "Resort_Lat": 49.4631931,
         "Resort_Long": -115.0862124,
         "Pass": "Epic",
         "Vertical Drop": 3550,
         "Skiable Terrain": "2504 ac",
         "Average Snowfall": "444\"",
         "_deepnote_index_column": 45
        },
        {
         "Resort": "Folgarida Marilleva",
         "Resort_Lat": 46.29331145,
         "Resort_Long": 10.823576903999982,
         "Pass": "Epic",
         "Vertical Drop": 2526,
         "Skiable Terrain": "63 km",
         "Average Snowfall": "192cm",
         "_deepnote_index_column": 46
        },
        {
         "Resort": "Heavenly",
         "Resort_Lat": 38.94045175,
         "Resort_Long": -119.89742148883298,
         "Pass": "Epic",
         "Vertical Drop": 3500,
         "Skiable Terrain": "4800 ac",
         "Average Snowfall": "360\"",
         "_deepnote_index_column": 47
        },
        {
         "Resort": "Keystone",
         "Resort_Lat": 39.6046192,
         "Resort_Long": -105.9538216,
         "Pass": "Epic",
         "Vertical Drop": 3128,
         "Skiable Terrain": "3148 ac",
         "Average Snowfall": "235\"",
         "_deepnote_index_column": 48
        },
        {
         "Resort": "Kicking Horse",
         "Resort_Lat": 51.2843923,
         "Resort_Long": -117.06305273837887,
         "Pass": "Epic",
         "Vertical Drop": 4134,
         "Skiable Terrain": "2800 ac",
         "Average Snowfall": "288\"",
         "_deepnote_index_column": 49
        }
       ]
      },
      "text/plain": "                     Resort  Resort_Lat  Resort_Long  Pass  Vertical Drop  \\\n0                      Alta   40.588237  -111.638401  Ikon         2538.0   \n1   Arapahoe Basin Ski Area   39.641869  -105.872051  Ikon         2530.0   \n2            Aspen Snowmass   39.202955  -106.964958  Ikon         4406.0   \n3             Bear Mountain   34.220086  -116.861034  Ikon         1665.0   \n4                   Big Sky   45.283978  -111.401116  Ikon         4350.0   \n..                      ...         ...          ...   ...            ...   \n82             Mt. Brighton   42.541010   -83.810807  Epic          230.0   \n83                     Pejo   46.376649    10.654277  Epic         5249.0   \n84                  Pinzolo   46.161732    10.765004  Epic         4265.0   \n85                Telluride   37.937494  -107.812285  Epic         4425.0   \n86          Wilmot Mountain   42.501190   -88.188082  Epic          230.0   \n\n   Skiable Terrain Average Snowfall  \n0          2614 ac             547\"  \n1          1428 ac             350\"  \n2          5517 ac             300\"  \n3           198 ac             100\"  \n4          5800 ac             400\"  \n..             ...              ...  \n82          130 ac              60\"  \n83           20 km            150cm  \n84         31.4 km            127cm  \n85         2000 ac             280\"  \n86          135 ac              70\"  \n\n[87 rows x 7 columns]",
      "text/html": "<div>\n<style scoped>\n    .dataframe tbody tr th:only-of-type {\n        vertical-align: middle;\n    }\n\n    .dataframe tbody tr th {\n        vertical-align: top;\n    }\n\n    .dataframe thead th {\n        text-align: right;\n    }\n</style>\n<table border=\"1\" class=\"dataframe\">\n  <thead>\n    <tr style=\"text-align: right;\">\n      <th></th>\n      <th>Resort</th>\n      <th>Resort_Lat</th>\n      <th>Resort_Long</th>\n      <th>Pass</th>\n      <th>Vertical Drop</th>\n      <th>Skiable Terrain</th>\n      <th>Average Snowfall</th>\n    </tr>\n  </thead>\n  <tbody>\n    <tr>\n      <th>0</th>\n      <td>Alta</td>\n      <td>40.588237</td>\n      <td>-111.638401</td>\n      <td>Ikon</td>\n      <td>2538.0</td>\n      <td>2614 ac</td>\n      <td>547\"</td>\n    </tr>\n    <tr>\n      <th>1</th>\n      <td>Arapahoe Basin Ski Area</td>\n      <td>39.641869</td>\n      <td>-105.872051</td>\n      <td>Ikon</td>\n      <td>2530.0</td>\n      <td>1428 ac</td>\n      <td>350\"</td>\n    </tr>\n    <tr>\n      <th>2</th>\n      <td>Aspen Snowmass</td>\n      <td>39.202955</td>\n      <td>-106.964958</td>\n      <td>Ikon</td>\n      <td>4406.0</td>\n      <td>5517 ac</td>\n      <td>300\"</td>\n    </tr>\n    <tr>\n      <th>3</th>\n      <td>Bear Mountain</td>\n      <td>34.220086</td>\n      <td>-116.861034</td>\n      <td>Ikon</td>\n      <td>1665.0</td>\n      <td>198 ac</td>\n      <td>100\"</td>\n    </tr>\n    <tr>\n      <th>4</th>\n      <td>Big Sky</td>\n      <td>45.283978</td>\n      <td>-111.401116</td>\n      <td>Ikon</td>\n      <td>4350.0</td>\n      <td>5800 ac</td>\n      <td>400\"</td>\n    </tr>\n    <tr>\n      <th>...</th>\n      <td>...</td>\n      <td>...</td>\n      <td>...</td>\n      <td>...</td>\n      <td>...</td>\n      <td>...</td>\n      <td>...</td>\n    </tr>\n    <tr>\n      <th>82</th>\n      <td>Mt. Brighton</td>\n      <td>42.541010</td>\n      <td>-83.810807</td>\n      <td>Epic</td>\n      <td>230.0</td>\n      <td>130 ac</td>\n      <td>60\"</td>\n    </tr>\n    <tr>\n      <th>83</th>\n      <td>Pejo</td>\n      <td>46.376649</td>\n      <td>10.654277</td>\n      <td>Epic</td>\n      <td>5249.0</td>\n      <td>20 km</td>\n      <td>150cm</td>\n    </tr>\n    <tr>\n      <th>84</th>\n      <td>Pinzolo</td>\n      <td>46.161732</td>\n      <td>10.765004</td>\n      <td>Epic</td>\n      <td>4265.0</td>\n      <td>31.4 km</td>\n      <td>127cm</td>\n    </tr>\n    <tr>\n      <th>85</th>\n      <td>Telluride</td>\n      <td>37.937494</td>\n      <td>-107.812285</td>\n      <td>Epic</td>\n      <td>4425.0</td>\n      <td>2000 ac</td>\n      <td>280\"</td>\n    </tr>\n    <tr>\n      <th>86</th>\n      <td>Wilmot Mountain</td>\n      <td>42.501190</td>\n      <td>-88.188082</td>\n      <td>Epic</td>\n      <td>230.0</td>\n      <td>135 ac</td>\n      <td>70\"</td>\n    </tr>\n  </tbody>\n</table>\n<p>87 rows × 7 columns</p>\n</div>"
     },
     "metadata": {}
    }
   ]
  },
  {
   "cell_type": "markdown",
   "source": "Vertical Drop has now been converted to feet rounded to the nearest foot. Time to switch all of the average snowfall values to inches.",
   "metadata": {
    "cell_id": "fcedc6dbd00b44ea93718c9345f47a4a",
    "tags": [],
    "deepnote_cell_type": "markdown",
    "deepnote_cell_height": 74.78125
   }
  },
  {
   "cell_type": "code",
   "metadata": {
    "cell_id": "7211354577994159bdcef06de373389e",
    "tags": [],
    "deepnote_to_be_reexecuted": false,
    "source_hash": "59aa8331",
    "execution_start": 1651079891476,
    "execution_millis": 48,
    "deepnote_table_state": {
     "pageSize": 10,
     "pageIndex": 8,
     "filters": [],
     "sortBy": []
    },
    "deepnote_table_loading": false,
    "deepnote_cell_type": "code",
    "deepnote_cell_height": 798.703125
   },
   "source": "df_map['Average Snowfall'] = df_map['Average Snowfall'].apply(lambda x: int(x.replace('cm', '')) * .3937 if 'cm' in x else x.replace('\"', \"\"))\ndf_map['Average Snowfall'] = df_map['Average Snowfall'].astype(float).round(0)\ndf_map",
   "execution_count": 6,
   "outputs": [
    {
     "name": "stderr",
     "text": "/shared-libs/python3.7/py-core/lib/python3.7/site-packages/ipykernel_launcher.py:2: SettingWithCopyWarning: \nA value is trying to be set on a copy of a slice from a DataFrame.\nTry using .loc[row_indexer,col_indexer] = value instead\n\nSee the caveats in the documentation: https://pandas.pydata.org/pandas-docs/stable/user_guide/indexing.html#returning-a-view-versus-a-copy\n  \n/shared-libs/python3.7/py-core/lib/python3.7/site-packages/ipykernel_launcher.py:3: SettingWithCopyWarning: \nA value is trying to be set on a copy of a slice from a DataFrame.\nTry using .loc[row_indexer,col_indexer] = value instead\n\nSee the caveats in the documentation: https://pandas.pydata.org/pandas-docs/stable/user_guide/indexing.html#returning-a-view-versus-a-copy\n  This is separate from the ipykernel package so we can avoid doing imports until\n",
     "output_type": "stream"
    },
    {
     "output_type": "execute_result",
     "execution_count": 6,
     "data": {
      "application/vnd.deepnote.dataframe.v3+json": {
       "column_count": 7,
       "row_count": 87,
       "columns": [
        {
         "name": "Resort",
         "dtype": "object",
         "stats": {
          "unique_count": 85,
          "nan_count": 0,
          "categories": [
           {
            "name": "Snowbasin",
            "count": 2
           },
           {
            "name": "Sun Valley",
            "count": 2
           },
           {
            "name": "83 others",
            "count": 83
           }
          ]
         }
        },
        {
         "name": "Resort_Lat",
         "dtype": "float64",
         "stats": {
          "unique_count": 84,
          "nan_count": 0,
          "min": "34.22008645",
          "max": "51.4423106",
          "histogram": [
           {
            "bin_start": 34.22008645,
            "bin_end": 35.942308864999994,
            "count": 2
           },
           {
            "bin_start": 35.942308864999994,
            "bin_end": 37.66453128,
            "count": 2
           },
           {
            "bin_start": 37.66453128,
            "bin_end": 39.386753694999996,
            "count": 9
           },
           {
            "bin_start": 39.386753694999996,
            "bin_end": 41.10897611,
            "count": 15
           },
           {
            "bin_start": 41.10897611,
            "bin_end": 42.831198525,
            "count": 5
           },
           {
            "bin_start": 42.831198525,
            "bin_end": 44.553420939999995,
            "count": 13
           },
           {
            "bin_start": 44.553420939999995,
            "bin_end": 46.275643355,
            "count": 24
           },
           {
            "bin_start": 46.275643355,
            "bin_end": 47.99786577,
            "count": 7
           },
           {
            "bin_start": 47.99786577,
            "bin_end": 49.720088185,
            "count": 3
           },
           {
            "bin_start": 49.720088185,
            "bin_end": 51.4423106,
            "count": 7
           }
          ]
         }
        },
        {
         "name": "Resort_Long",
         "dtype": "float64",
         "stats": {
          "unique_count": 84,
          "nan_count": 0,
          "min": "-123.2011442570911",
          "max": "11.06430454534564",
          "histogram": [
           {
            "bin_start": -123.2011442570911,
            "bin_end": -109.77459937684743,
            "count": 34
           },
           {
            "bin_start": -109.77459937684743,
            "bin_end": -96.34805449660375,
            "count": 13
           },
           {
            "bin_start": -96.34805449660375,
            "bin_end": -82.92150961636008,
            "count": 5
           },
           {
            "bin_start": -82.92150961636008,
            "bin_end": -69.4949647361164,
            "count": 15
           },
           {
            "bin_start": -69.4949647361164,
            "bin_end": -56.06841985587273,
            "count": 0
           },
           {
            "bin_start": -56.06841985587273,
            "bin_end": -42.641874975629065,
            "count": 0
           },
           {
            "bin_start": -42.641874975629065,
            "bin_end": -29.215330095385383,
            "count": 0
           },
           {
            "bin_start": -29.215330095385383,
            "bin_end": -15.788785215141715,
            "count": 0
           },
           {
            "bin_start": -15.788785215141715,
            "bin_end": -2.362240334898047,
            "count": 0
           },
           {
            "bin_start": -2.362240334898047,
            "bin_end": 11.06430454534564,
            "count": 20
           }
          ]
         }
        },
        {
         "name": "Pass",
         "dtype": "object",
         "stats": {
          "unique_count": 2,
          "nan_count": 0,
          "categories": [
           {
            "name": "Epic",
            "count": 46
           },
           {
            "name": "Ikon",
            "count": 41
           }
          ]
         }
        },
        {
         "name": "Vertical Drop",
         "dtype": "float64",
         "stats": {
          "unique_count": 81,
          "nan_count": 0,
          "min": "230.0",
          "max": "7710.0",
          "histogram": [
           {
            "bin_start": 230,
            "bin_end": 978,
            "count": 6
           },
           {
            "bin_start": 978,
            "bin_end": 1726,
            "count": 9
           },
           {
            "bin_start": 1726,
            "bin_end": 2474,
            "count": 15
           },
           {
            "bin_start": 2474,
            "bin_end": 3222,
            "count": 20
           },
           {
            "bin_start": 3222,
            "bin_end": 3970,
            "count": 16
           },
           {
            "bin_start": 3970,
            "bin_end": 4718,
            "count": 12
           },
           {
            "bin_start": 4718,
            "bin_end": 5466,
            "count": 2
           },
           {
            "bin_start": 5466,
            "bin_end": 6214,
            "count": 4
           },
           {
            "bin_start": 6214,
            "bin_end": 6962,
            "count": 1
           },
           {
            "bin_start": 6962,
            "bin_end": 7710,
            "count": 2
           }
          ]
         }
        },
        {
         "name": "Skiable Terrain",
         "dtype": "object",
         "stats": {
          "unique_count": 75,
          "nan_count": 0,
          "categories": [
           {
            "name": "150 km",
            "count": 6
           },
           {
            "name": "412 km",
            "count": 4
           },
           {
            "name": "73 others",
            "count": 77
           }
          ]
         }
        },
        {
         "name": "Average Snowfall",
         "dtype": "float64",
         "stats": {
          "unique_count": 63,
          "nan_count": 0,
          "min": "20.0",
          "max": "547.0",
          "histogram": [
           {
            "bin_start": 20,
            "bin_end": 72.7,
            "count": 9
           },
           {
            "bin_start": 72.7,
            "bin_end": 125.4,
            "count": 16
           },
           {
            "bin_start": 125.4,
            "bin_end": 178.10000000000002,
            "count": 8
           },
           {
            "bin_start": 178.10000000000002,
            "bin_end": 230.8,
            "count": 8
           },
           {
            "bin_start": 230.8,
            "bin_end": 283.5,
            "count": 8
           },
           {
            "bin_start": 283.5,
            "bin_end": 336.20000000000005,
            "count": 14
           },
           {
            "bin_start": 336.20000000000005,
            "bin_end": 388.90000000000003,
            "count": 8
           },
           {
            "bin_start": 388.90000000000003,
            "bin_end": 441.6,
            "count": 5
           },
           {
            "bin_start": 441.6,
            "bin_end": 494.3,
            "count": 7
           },
           {
            "bin_start": 494.3,
            "bin_end": 547,
            "count": 4
           }
          ]
         }
        },
        {
         "name": "_deepnote_index_column",
         "dtype": "int64"
        }
       ],
       "rows": [
        {
         "Resort": "Monte Bondone",
         "Resort_Lat": 46.0396465,
         "Resort_Long": 11.06430454534564,
         "Pass": "Epic",
         "Vertical Drop": 2986,
         "Skiable Terrain": "19 km",
         "Average Snowfall": 44,
         "_deepnote_index_column": 80
        },
        {
         "Resort": "Mount Sunapee",
         "Resort_Lat": 43.3321313,
         "Resort_Long": -72.0788167,
         "Pass": "Epic",
         "Vertical Drop": 1510,
         "Skiable Terrain": "232 ac",
         "Average Snowfall": 100,
         "_deepnote_index_column": 81
        },
        {
         "Resort": "Mt. Brighton",
         "Resort_Lat": 42.5410098,
         "Resort_Long": -83.8108072,
         "Pass": "Epic",
         "Vertical Drop": 230,
         "Skiable Terrain": "130 ac",
         "Average Snowfall": 60,
         "_deepnote_index_column": 82
        },
        {
         "Resort": "Pejo",
         "Resort_Lat": 46.37664855,
         "Resort_Long": 10.654277092857651,
         "Pass": "Epic",
         "Vertical Drop": 5249,
         "Skiable Terrain": "20 km",
         "Average Snowfall": 59,
         "_deepnote_index_column": 83
        },
        {
         "Resort": "Pinzolo",
         "Resort_Lat": 46.1617322,
         "Resort_Long": 10.7650043,
         "Pass": "Epic",
         "Vertical Drop": 4265,
         "Skiable Terrain": "31.4 km",
         "Average Snowfall": 50,
         "_deepnote_index_column": 84
        },
        {
         "Resort": "Telluride",
         "Resort_Lat": 37.9374939,
         "Resort_Long": -107.812285,
         "Pass": "Epic",
         "Vertical Drop": 4425,
         "Skiable Terrain": "2000 ac",
         "Average Snowfall": 280,
         "_deepnote_index_column": 85
        },
        {
         "Resort": "Wilmot Mountain",
         "Resort_Lat": 42.50119015,
         "Resort_Long": -88.18808165664426,
         "Pass": "Epic",
         "Vertical Drop": 230,
         "Skiable Terrain": "135 ac",
         "Average Snowfall": 70,
         "_deepnote_index_column": 86
        }
       ]
      },
      "text/plain": "                     Resort  Resort_Lat  Resort_Long  Pass  Vertical Drop  \\\n0                      Alta   40.588237  -111.638401  Ikon         2538.0   \n1   Arapahoe Basin Ski Area   39.641869  -105.872051  Ikon         2530.0   \n2            Aspen Snowmass   39.202955  -106.964958  Ikon         4406.0   \n3             Bear Mountain   34.220086  -116.861034  Ikon         1665.0   \n4                   Big Sky   45.283978  -111.401116  Ikon         4350.0   \n..                      ...         ...          ...   ...            ...   \n82             Mt. Brighton   42.541010   -83.810807  Epic          230.0   \n83                     Pejo   46.376649    10.654277  Epic         5249.0   \n84                  Pinzolo   46.161732    10.765004  Epic         4265.0   \n85                Telluride   37.937494  -107.812285  Epic         4425.0   \n86          Wilmot Mountain   42.501190   -88.188082  Epic          230.0   \n\n   Skiable Terrain  Average Snowfall  \n0          2614 ac             547.0  \n1          1428 ac             350.0  \n2          5517 ac             300.0  \n3           198 ac             100.0  \n4          5800 ac             400.0  \n..             ...               ...  \n82          130 ac              60.0  \n83           20 km              59.0  \n84         31.4 km              50.0  \n85         2000 ac             280.0  \n86          135 ac              70.0  \n\n[87 rows x 7 columns]",
      "text/html": "<div>\n<style scoped>\n    .dataframe tbody tr th:only-of-type {\n        vertical-align: middle;\n    }\n\n    .dataframe tbody tr th {\n        vertical-align: top;\n    }\n\n    .dataframe thead th {\n        text-align: right;\n    }\n</style>\n<table border=\"1\" class=\"dataframe\">\n  <thead>\n    <tr style=\"text-align: right;\">\n      <th></th>\n      <th>Resort</th>\n      <th>Resort_Lat</th>\n      <th>Resort_Long</th>\n      <th>Pass</th>\n      <th>Vertical Drop</th>\n      <th>Skiable Terrain</th>\n      <th>Average Snowfall</th>\n    </tr>\n  </thead>\n  <tbody>\n    <tr>\n      <th>0</th>\n      <td>Alta</td>\n      <td>40.588237</td>\n      <td>-111.638401</td>\n      <td>Ikon</td>\n      <td>2538.0</td>\n      <td>2614 ac</td>\n      <td>547.0</td>\n    </tr>\n    <tr>\n      <th>1</th>\n      <td>Arapahoe Basin Ski Area</td>\n      <td>39.641869</td>\n      <td>-105.872051</td>\n      <td>Ikon</td>\n      <td>2530.0</td>\n      <td>1428 ac</td>\n      <td>350.0</td>\n    </tr>\n    <tr>\n      <th>2</th>\n      <td>Aspen Snowmass</td>\n      <td>39.202955</td>\n      <td>-106.964958</td>\n      <td>Ikon</td>\n      <td>4406.0</td>\n      <td>5517 ac</td>\n      <td>300.0</td>\n    </tr>\n    <tr>\n      <th>3</th>\n      <td>Bear Mountain</td>\n      <td>34.220086</td>\n      <td>-116.861034</td>\n      <td>Ikon</td>\n      <td>1665.0</td>\n      <td>198 ac</td>\n      <td>100.0</td>\n    </tr>\n    <tr>\n      <th>4</th>\n      <td>Big Sky</td>\n      <td>45.283978</td>\n      <td>-111.401116</td>\n      <td>Ikon</td>\n      <td>4350.0</td>\n      <td>5800 ac</td>\n      <td>400.0</td>\n    </tr>\n    <tr>\n      <th>...</th>\n      <td>...</td>\n      <td>...</td>\n      <td>...</td>\n      <td>...</td>\n      <td>...</td>\n      <td>...</td>\n      <td>...</td>\n    </tr>\n    <tr>\n      <th>82</th>\n      <td>Mt. Brighton</td>\n      <td>42.541010</td>\n      <td>-83.810807</td>\n      <td>Epic</td>\n      <td>230.0</td>\n      <td>130 ac</td>\n      <td>60.0</td>\n    </tr>\n    <tr>\n      <th>83</th>\n      <td>Pejo</td>\n      <td>46.376649</td>\n      <td>10.654277</td>\n      <td>Epic</td>\n      <td>5249.0</td>\n      <td>20 km</td>\n      <td>59.0</td>\n    </tr>\n    <tr>\n      <th>84</th>\n      <td>Pinzolo</td>\n      <td>46.161732</td>\n      <td>10.765004</td>\n      <td>Epic</td>\n      <td>4265.0</td>\n      <td>31.4 km</td>\n      <td>50.0</td>\n    </tr>\n    <tr>\n      <th>85</th>\n      <td>Telluride</td>\n      <td>37.937494</td>\n      <td>-107.812285</td>\n      <td>Epic</td>\n      <td>4425.0</td>\n      <td>2000 ac</td>\n      <td>280.0</td>\n    </tr>\n    <tr>\n      <th>86</th>\n      <td>Wilmot Mountain</td>\n      <td>42.501190</td>\n      <td>-88.188082</td>\n      <td>Epic</td>\n      <td>230.0</td>\n      <td>135 ac</td>\n      <td>70.0</td>\n    </tr>\n  </tbody>\n</table>\n<p>87 rows × 7 columns</p>\n</div>"
     },
     "metadata": {}
    }
   ]
  },
  {
   "cell_type": "markdown",
   "source": "We now have a dataset with all of the summary desired for the streamlit map. I will save is a new csv to access in the streamlit file, then set up a streamlit dashboard and create a mapping feature.",
   "metadata": {
    "cell_id": "e829417e8f60439aaac1e1f102942563",
    "tags": [],
    "deepnote_cell_type": "markdown",
    "deepnote_cell_height": 97.1875
   }
  },
  {
   "cell_type": "code",
   "metadata": {
    "cell_id": "2262d907f16644f59f8f77c7dc6470f7",
    "tags": [],
    "deepnote_to_be_reexecuted": false,
    "source_hash": "b72f2642",
    "execution_start": 1651079891576,
    "execution_millis": 1,
    "deepnote_cell_type": "code",
    "deepnote_cell_height": 81
   },
   "source": "df_map.to_csv('Map_Data.csv')",
   "execution_count": 7,
   "outputs": []
  },
  {
   "cell_type": "markdown",
   "source": "We now have a streamlit dashboard that has an interactive map. Use the link in the code block below to access the dashboard. Filter the map by ski pass (Epic or Ikon) and hover over any resort to get summary information.",
   "metadata": {
    "cell_id": "4dce0e8781b848ddb8ba9231d37fb60a",
    "tags": [],
    "deepnote_cell_type": "markdown",
    "deepnote_cell_height": 97.1875
   }
  },
  {
   "cell_type": "code",
   "metadata": {
    "cell_id": "8774aab83f274d29b4b958403f6140d6",
    "tags": [],
    "deepnote_to_be_reexecuted": false,
    "source_hash": "1e1d637c",
    "execution_start": 1651079891577,
    "execution_millis": 10,
    "deepnote_cell_type": "code",
    "deepnote_cell_height": 199.78125,
    "deepnote_output_heights": [
     48.78125
    ]
   },
   "source": "from IPython.display import HTML\nimport os\n\ndisplay( HTML( f'<h2><a href=\"http://{os.environ[\"DEEPNOTE_PROJECT_ID\"]}.deepnoteproject.com\" target=\"_blank\">Click here to open your Streamlit app.</a></h2>' ) )",
   "execution_count": 8,
   "outputs": [
    {
     "data": {
      "text/plain": "<IPython.core.display.HTML object>",
      "text/html": "<h2><a href=\"http://56536ab2-bf47-4e24-ade7-ce0db1a10c7a.deepnoteproject.com\" target=\"_blank\">Click here to open your Streamlit app.</a></h2>"
     },
     "metadata": {},
     "output_type": "display_data"
    }
   ]
  },
  {
   "cell_type": "code",
   "metadata": {
    "cell_id": "be0310aa247d4a3b853f852b9d3f74d4",
    "tags": [],
    "deepnote_to_be_reexecuted": false,
    "source_hash": "4320b6c5",
    "execution_start": 1651079939484,
    "execution_millis": 23932,
    "owner_user_id": "528a05e1-b7a4-4406-8fb4-6cb0fb198510",
    "deepnote_cell_type": "code",
    "deepnote_cell_height": 191.3125
   },
   "source": "!cd .. && streamlit run /work/streamlit_app.py --server.port=8080 --server.address='0.0.0.0'",
   "execution_count": 11,
   "outputs": [
    {
     "name": "stdout",
     "text": "\u001b[0m\n\u001b[34m\u001b[1m  You can now view your Streamlit app in your browser.\u001b[0m\n\u001b[0m\n\u001b[34m  URL: \u001b[0m\u001b[1mhttp://0.0.0.0:8080\u001b[0m\n\u001b[0m\n^C\n\u001b[34m  Stopping...\u001b[0m\n",
     "output_type": "stream"
    }
   ]
  },
  {
   "cell_type": "markdown",
   "source": "The second functionality of the dashboard will graph total annual snowfall over time for a selected resort. This uses the annualsnow.csv file, which contains annual data from the 2012-2013 season to present. Below I will clean the data (set all totals to inches) and create a new csv. Graphing code will take place in the streamlit file (called resort_app.py).",
   "metadata": {
    "cell_id": "e3fb4f2df6b04e2298b9ae6c4472f968",
    "tags": [],
    "deepnote_cell_type": "markdown",
    "deepnote_cell_height": 119.578125
   }
  },
  {
   "cell_type": "code",
   "metadata": {
    "cell_id": "8bd0194d3ed1495293eff5d7e1ae4a90",
    "tags": [],
    "deepnote_to_be_reexecuted": false,
    "source_hash": "46175287",
    "execution_start": 1651079897169,
    "execution_millis": 20,
    "deepnote_cell_type": "code",
    "deepnote_cell_height": 171
   },
   "source": "df_annual = pd.read_csv('/work/annualsnow.csv')\ndf_annual['Total Snowfall'] = df_annual['Total Snowfall'].apply(lambda x: int(x.replace('cm', '')) * .3937 if 'cm' in x else x.replace('\"', \"\"))\ndf_annual['Total Snowfall'] = df_annual['Total Snowfall'].astype(float).round(0)\ndf_graph = df_annual[['Resort', 'Year', 'Total Snowfall']]\ndf_graph.to_csv('Graph_Data.csv')\n",
   "execution_count": 10,
   "outputs": []
  },
  {
   "cell_type": "markdown",
   "source": "This data can now be imported into the streamlit file so it can be filtered and graphed in the dashboard.",
   "metadata": {
    "cell_id": "452634f235484c9d9a4aa1d6422d3c0a",
    "tags": [],
    "deepnote_cell_type": "markdown",
    "deepnote_cell_height": 74.78125
   }
  },
  {
   "cell_type": "markdown",
   "source": "<a style='text-decoration:none;line-height:16px;display:flex;color:#5B5B62;padding:10px;justify-content:end;' href='https://deepnote.com?utm_source=created-in-deepnote-cell&projectId=56536ab2-bf47-4e24-ade7-ce0db1a10c7a' target=\"_blank\">\n<img alt='Created in deepnote.com' style='display:inline;max-height:16px;margin:0px;margin-right:7.5px;' src='data:image/svg+xml;base64,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' > </img>\nCreated in <span style='font-weight:600;margin-left:4px;'>Deepnote</span></a>",
   "metadata": {
    "tags": [],
    "created_in_deepnote_cell": true,
    "deepnote_cell_type": "markdown"
   }
  }
 ],
 "nbformat": 4,
 "nbformat_minor": 2,
 "metadata": {
  "orig_nbformat": 2,
  "deepnote": {},
  "deepnote_notebook_id": "a7b78c02-b4cc-4ce0-ae02-8b25e70ea5a6",
  "deepnote_execution_queue": []
 }
}